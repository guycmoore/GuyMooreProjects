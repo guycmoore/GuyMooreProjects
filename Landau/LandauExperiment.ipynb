{
 "cells": [
  {
   "cell_type": "markdown",
   "metadata": {},
   "source": [
    "# Landau Theory of First Order Phase Transitions"
   ]
  },
  {
   "cell_type": "code",
   "execution_count": 1,
   "metadata": {},
   "outputs": [],
   "source": [
    "import numpy as np\n",
    "import numpy.linalg as npla\n",
    "\n",
    "import matplotlib as mpl\n",
    "import matplotlib.pyplot as plt\n",
    "import plotly.graph_objects as go\n",
    "from ipywidgets import widgets, interact, interactive"
   ]
  },
  {
   "cell_type": "code",
   "execution_count": 2,
   "metadata": {},
   "outputs": [],
   "source": [
    "# # Set plot resolution\n",
    "# mpl.rcParams['figure.dpi']= 300"
   ]
  },
  {
   "cell_type": "markdown",
   "metadata": {},
   "source": [
    "## Landau Expansion (up to sixth order)\n",
    "\n",
    "We can express the energy potential versus mean-field magnetization by performing a Taylor expansion:\n",
    "\n",
    "$$ f(m, T) = f_0 (T) + am^2 + bm^4 + cm^6 + hm$$\n",
    "\n",
    "A simple example of temperature dependence: let $a = \\alpha (T - T_C)$, and $f_0 = - c_{v0} T^2$, where $T_C$ is the critical temperature.\n",
    "\n",
    "*Based on (time-reversal) symmetry*: Only even powers allowed in the expansion."
   ]
  },
  {
   "cell_type": "code",
   "execution_count": 3,
   "metadata": {},
   "outputs": [],
   "source": [
    "def get_polys(f0, a, b, c, h):\n",
    "    \n",
    "    if c != 0.0:\n",
    "        p_energy = [1/6 * c, 0.0, 1/4 * b, 0.0, 1/2 * a, h, f0];\n",
    "    else:\n",
    "        p_energy = [1/4 * b, 0.0, 1/2 * a, h, f0];\n",
    "    p_deriv = np.polyder(p_energy);\n",
    "    \n",
    "    pn_deriv = p_deriv / p_deriv[0]\n",
    "    #pn_deriv = p_deriv\n",
    "    roots = np.roots(pn_deriv)\n",
    "    \n",
    "    return p_energy, p_deriv, pn_deriv, roots\n",
    "\n",
    "def get_landau_poly(cv0, a, b, c, h, T, Tc):\n",
    "    \n",
    "    f0 = - 0.5 * cv0 * T**2\n",
    "    ap = a * (T-Tc)\n",
    "    \n",
    "    p_energy, p_deriv, pn_deriv, roots = get_polys(f0, ap, b, c, h)\n",
    "    \n",
    "    return p_energy, p_deriv, pn_deriv, roots\n",
    "\n",
    "def calculate_entropy(m, cv0, a, b, c, h, T, Tc):\n",
    "    \n",
    "    s = cv0 * T - a * m**2\n",
    "    \n",
    "    return s\n",
    "    \n",
    "def landau_plot(p_energy, p_deriv, roots, m_lims=()):\n",
    "    \n",
    "    nplt = 100 \n",
    "    if m_lims:\n",
    "        mv = np.linspace(m_lims[0], m_lims[1], nplt)\n",
    "    else:\n",
    "        mv = np.linspace(\n",
    "            1.2*np.min(np.real(roots)), \n",
    "            1.2*np.max(np.real(roots)), nplt)\n",
    "    \n",
    "    energy = np.polyval(p_energy, mv)\n",
    "    deriv = np.polyval(p_deriv, mv)\n",
    "    \n",
    "    plt.figure(100)\n",
    "    \n",
    "    plt.plot(mv, energy, linewidth=2);\n",
    "    #plt.plot(mv, deriv, linewidth=2);\n",
    "    plt.xlabel('$m$')\n",
    "    plt.ylabel('$f(m)$')\n",
    "    plt.title('Landau Free Energy')\n",
    "    plt.show();\n",
    "\n",
    "def landau_plot_A(cv0, a, b, c, h, T, Tc):\n",
    "        \n",
    "    p_energy, p_deriv, pn_deriv, roots = get_landau_poly(cv0, a, b, c, h, T, Tc)\n",
    "    _, _, _, rb = get_landau_poly(cv0, a, b, c, h, 0.0, Tc)\n",
    "    \n",
    "    m_lims = (1.2*np.min(np.real(rb)), 1.2*np.max(np.real(rb)))\n",
    "    #m_lims = None\n",
    "    \n",
    "    landau_plot(p_energy, p_deriv, roots, m_lims)"
   ]
  },
  {
   "cell_type": "code",
   "execution_count": 4,
   "metadata": {},
   "outputs": [],
   "source": [
    "Tc = 1.0\n",
    "cv0, a, b, c, h = 0.0, 1.0, -2.5, 1.0, 0.0\n",
    "\n",
    "(p_energy, p_deriv, pn_deriv, roots) = get_polys(0.0, a, b, c, h)\n",
    "pord = len(roots)"
   ]
  },
  {
   "cell_type": "code",
   "execution_count": 5,
   "metadata": {},
   "outputs": [
    {
     "data": {
      "image/png": "[encoded data removed]",
      "text/plain": [
       "<Figure size 600x400 with 1 Axes>"
      ]
     },
     "metadata": {
      "needs_background": "light"
     },
     "output_type": "display_data"
    }
   ],
   "source": [
    "%matplotlib inline\n",
    "mpl.rcParams['figure.dpi']= 100\n",
    "\n",
    "T = 2.0\n",
    "\n",
    "landau_plot_A(cv0, a, b, c, h, T, Tc)"
   ]
  },
  {
   "cell_type": "code",
   "execution_count": 6,
   "metadata": {
    "scrolled": false
   },
   "outputs": [
    {
     "data": {
      "application/vnd.jupyter.widget-view+json": {
       "model_id": "93f1ee2796174ec785fc6fc3bbbe10e3",
       "version_major": 2,
       "version_minor": 0
      },
      "text/plain": [
       "interactive(children=(FloatSlider(value=0.5, description='cv0', max=1.0), FloatSlider(value=1.0, description='…"
      ]
     },
     "metadata": {},
     "output_type": "display_data"
    }
   ],
   "source": [
    "#%matplotlib widget\n",
    "#%matplotlib ipympl\n",
    "%matplotlib inline\n",
    "mpl.rcParams['figure.dpi']= 100\n",
    "\n",
    "interactive_plot = interactive(\n",
    "    landau_plot_A,\n",
    "    cv0=(0.0, 1.0, 0.1), a=(0.0, 2.0, 0.1), b=(-3.0, 1.0, 0.1), c=(0.0, 1.0, 0.1),\n",
    "    h=(-1.0, 1.0, 0.1), T=(0.0, 3.0, 0.1), Tc=(0.5, 1.5, 0.5)\n",
    ")\n",
    "\n",
    "output = interactive_plot.children[-1]\n",
    "output.layout.height = '400px'\n",
    "interactive_plot"
   ]
  },
  {
   "cell_type": "markdown",
   "metadata": {},
   "source": [
    "## Hysteresis of the Sixth Order potential\n",
    "### Time Dependent Kinetic Response\n",
    "\n",
    "The hysteresis effects are important to account for in magnetocaloric materials:\n",
    "* First order transitions have the following tradeoff: There is a **large latent heat associated with the phase transition**, which results in **pronounced hysteresis effects** that can reduce cooling efficiency with rapid cycling.\n",
    "\n",
    "$$ f(m, T) = f_0 (T) + a(T - T_C)m^2 + bm^4 + cm^6 + hm$$\n",
    "\n",
    "We can define the following dissipative time-evolution equation, where $L$ is a kinetic constant:\n",
    "\n",
    "$$ \\frac{\\partial m}{\\partial t} = - L \\frac{\\delta F}{\\delta m} = -L \\frac{\\partial f}{\\partial m} $$"
   ]
  },
  {
   "cell_type": "code",
   "execution_count": 7,
   "metadata": {},
   "outputs": [],
   "source": [
    "from td_landau_solver import *"
   ]
  },
  {
   "cell_type": "code",
   "execution_count": 8,
   "metadata": {},
   "outputs": [],
   "source": [
    "def relax_landau(\n",
    "    m_init, m0, L, t_end,\n",
    "    cv0, a, b, c, h, T, Tc,\n",
    "    tol=1.0e-10):\n",
    "    \n",
    "    (p_energy, p_deriv, pn_deriv, roots) = get_landau_poly(cv0, a, b, c, h, T, Tc)\n",
    "    pord = len(roots)\n",
    "    \n",
    "    m = m_init\n",
    "    try:\n",
    "        exps = get_exps_lhs(roots, pord)\n",
    "\n",
    "        # Kinetic\n",
    "        alpha = p_deriv[0] * L\n",
    "\n",
    "        m = zero_finder_sv (m_init, m0, roots, exps, t_end, alpha, tol=tol)\n",
    "    except:\n",
    "        # print('Found singularity')\n",
    "        a = None\n",
    "    \n",
    "    return m"
   ]
  },
  {
   "cell_type": "code",
   "execution_count": 9,
   "metadata": {},
   "outputs": [],
   "source": [
    "Tc = 1.0\n",
    "cv0, a, b, c, h = 0.0, 1.0, -2.5, 1.0, -0.5\n",
    "\n",
    "T = 2.0\n",
    "\n",
    "(p_energy, p_deriv, pn_deriv, roots) = get_landau_poly(cv0, a, b, c, h, T, Tc)\n",
    "pord = len(roots)\n",
    "\n",
    "# Kinetic\n",
    "L = 1.0\n",
    "alpha = p_deriv[0] * L"
   ]
  },
  {
   "cell_type": "code",
   "execution_count": 10,
   "metadata": {},
   "outputs": [
    {
     "data": {
      "image/png": "[encoded data removed]",
      "text/plain": [
       "<Figure size 600x400 with 1 Axes>"
      ]
     },
     "metadata": {
      "needs_background": "light"
     },
     "output_type": "display_data"
    }
   ],
   "source": [
    "%matplotlib inline\n",
    "mpl.rcParams['figure.dpi']= 100\n",
    "\n",
    "T = 2.0\n",
    "landau_plot_A(cv0, a, b, c, h, T, Tc)"
   ]
  },
  {
   "cell_type": "code",
   "execution_count": 11,
   "metadata": {},
   "outputs": [],
   "source": [
    "# x = newton_raphson_poly(p_deriv, 1.0)\n",
    "# print(x)"
   ]
  },
  {
   "cell_type": "code",
   "execution_count": 12,
   "metadata": {},
   "outputs": [],
   "source": [
    "# Initial magnetization\n",
    "m0 = - 0.8\n",
    "\n",
    "tv = np.linspace(0.0, 8.0, 30);\n",
    "mv = np.zeros(tv.shape);\n",
    "\n",
    "tol = 1.0e-10\n",
    "\n",
    "exps = get_exps_lhs(roots, pord)\n",
    "\n",
    "m = m0\n",
    "for i in range(len(tv)):\n",
    "    m = zero_finder_sv (m, m0, roots, exps, tv[i], alpha, tol=tol)\n",
    "    mv[i] = m"
   ]
  },
  {
   "cell_type": "code",
   "execution_count": 13,
   "metadata": {},
   "outputs": [
    {
     "data": {
      "image/png": "[encoded data removed]",
      "text/plain": [
       "<Figure size 800x600 with 1 Axes>"
      ]
     },
     "metadata": {
      "needs_background": "light"
     },
     "output_type": "display_data"
    }
   ],
   "source": [
    "%matplotlib inline\n",
    "mpl.rcParams['figure.dpi']= 100\n",
    "\n",
    "plt.figure(figsize=[8,6]);\n",
    "plt.plot(tv, mv, 'b.-');\n",
    "plt.ylabel('$m$ (magnetization)');\n",
    "plt.xlabel('$t$ (time)');\n",
    "plt.title('Magnetization versus time')\n",
    "plt.show();"
   ]
  },
  {
   "cell_type": "code",
   "execution_count": 14,
   "metadata": {},
   "outputs": [
    {
     "data": {
      "image/png": "[encoded data removed]",
      "text/plain": [
       "<Figure size 3000x1500 with 1 Axes>"
      ]
     },
     "metadata": {
      "needs_background": "light"
     },
     "output_type": "display_data"
    }
   ],
   "source": [
    "# Show Transcendental Equation\n",
    "t = 0.0\n",
    "m = np.linspace(\n",
    "            1.2*np.min(np.real(roots)), \n",
    "            1.2*np.max(np.real(roots)), 200)\n",
    "y = (sv_lhs (m, m0, roots, exps))\n",
    "\n",
    "%matplotlib inline\n",
    "mpl.rcParams['figure.dpi']= 300\n",
    "\n",
    "plt.figure(figsize=[10,5]);\n",
    "plt.plot(m, np.abs(y), 'g-')\n",
    "#plt.plot(m, np.imag(y), 'r-')\n",
    "plt.plot(m, np.real(y), 'b-')\n",
    "\n",
    "plt.plot(m, np.exp(-alpha*t) + 0.0*m, 'm--')\n",
    "#plt.plot(m, -alpha*t + 0.0*m, 'm--')\n",
    "plt.plot(m, 1.0 + 0.0*m, 'y-.')\n",
    "\n",
    "for r in roots:\n",
    "    if np.abs(np.imag(r)) < 1e-12:\n",
    "        plt.plot(np.real(r) + 0.0*m, \n",
    "                 np.linspace(np.min(np.real(y)), np.max(np.real(y)), len(m)), 'y--')\n",
    "\n",
    "plt.xlabel('$m$')\n",
    "plt.ylabel('Objective function')\n",
    "plt.title('Symbolic Transcendental Equation')\n",
    "plt.legend(['Analytic function', '$\\exp (-a t)$'])\n",
    "plt.show()\n",
    "\n",
    "plt.show()"
   ]
  },
  {
   "cell_type": "markdown",
   "metadata": {},
   "source": [
    "### <center> Newton-Raphson Method </center>\n",
    "![FractalUrl](https://upload.wikimedia.org/wikipedia/commons/thumb/e/e0/NewtonIteration_Ani.gif/300px-NewtonIteration_Ani.gif \"NR Method\")"
   ]
  },
  {
   "cell_type": "code",
   "execution_count": 39,
   "metadata": {},
   "outputs": [],
   "source": [
    "# Critical temperature\n",
    "Tc = 1.0\n",
    "\n",
    "# Relaxation time - kinetics dependent parameter \n",
    "t_end = 100.0\n",
    "\n",
    "# Sixth order potential \n",
    "cv0, a, b, c, h = 0.5, 1.0, -2.5, 1.0, 0.0\n",
    "\n",
    "# # Forth order potential\n",
    "# cv0, a, b, c, h = 0.5, 1.0, 2.5, 0.0, 0.0\n",
    "\n",
    "_, _, _, roots = get_landau_poly(cv0, a, b, c, h, 0.0, Tc)\n",
    "\n",
    "temps = np.linspace(0.0, 3.0, 100)\n",
    "mv_a = 0.0 * temps\n",
    "mv_b = 0.0 * temps\n",
    "\n",
    "sv_a = 0.0 * temps\n",
    "sv_b = 0.0 * temps\n",
    "\n",
    "mp = 1.0e-4\n",
    "m0 = np.max(np.real(roots))\n",
    "m = m0\n",
    "\n",
    "# Convergence tolerance\n",
    "tol = 1.0e-9\n",
    "\n",
    "#\n",
    "T = temps[0]\n",
    "m_init = m # + np.random.normal(0.0, mp, [1])[0]\n",
    "m = relax_landau(\n",
    "    m_init, m0, L, t_end,\n",
    "    cv0, a, b, c, h, T, Tc,\n",
    "    tol=tol)\n",
    "m0 = m\n",
    "#\n",
    "\n",
    "# print('m0 = ', m0)\n",
    "\n",
    "for i,temp in enumerate(temps):\n",
    "    \n",
    "    T = temp\n",
    "    \n",
    "    # m_init = m\n",
    "    m_init = m + np.random.normal(0.0, mp, [1])[0]\n",
    "    # m_init = m + mp\n",
    "    \n",
    "    m = relax_landau(\n",
    "        m_init, m0, L, t_end,\n",
    "        cv0, a, b, c, h, T, Tc,\n",
    "        tol=tol)\n",
    "    \n",
    "    mv_a[i] = m\n",
    "    sv_a[i] = calculate_entropy(m, cv0, a, b, c, h, T, Tc)\n",
    "    \n",
    "    # print('m = ', m)\n",
    "    \n",
    "for i,temp in reversed(list(enumerate(temps))):\n",
    "    \n",
    "    T = temp\n",
    "        \n",
    "    # m_init = m\n",
    "    m_init = m + np.random.normal(0.0, mp, [1])[0]\n",
    "    # m_init = m - mp\n",
    "    \n",
    "    m = relax_landau(\n",
    "        m_init, m0, L, t_end,\n",
    "        cv0, a, b, c, h, T, Tc,\n",
    "        tol=tol)\n",
    "    \n",
    "    mv_b[i] = m\n",
    "    sv_b[i] = calculate_entropy(m, cv0, a, b, c, h, T, Tc)\n",
    "    \n",
    "    # print('m = ', m)"
   ]
  },
  {
   "cell_type": "code",
   "execution_count": 40,
   "metadata": {},
   "outputs": [
    {
     "data": {
      "image/png": "[encoded data removed]",
      "text/plain": [
       "<Figure size 800x600 with 1 Axes>"
      ]
     },
     "metadata": {
      "needs_background": "light"
     },
     "output_type": "display_data"
    },
    {
     "data": {
      "image/png": "[encoded data removed]",
      "text/plain": [
       "<Figure size 800x600 with 1 Axes>"
      ]
     },
     "metadata": {
      "needs_background": "light"
     },
     "output_type": "display_data"
    }
   ],
   "source": [
    "%matplotlib inline\n",
    "mpl.rcParams['figure.dpi']= 100\n",
    "\n",
    "plt.figure(figsize=[8,6]);\n",
    "plt.plot(temps, np.abs(mv_a), 'r.-');\n",
    "plt.plot(temps, np.abs(mv_b), 'b.-');\n",
    "plt.ylabel('$|m|$');\n",
    "plt.xlabel('$T$ (temperature)');\n",
    "plt.legend(['Heating', 'Cooling'])\n",
    "plt.title('Magnetization')\n",
    "plt.show();\n",
    "\n",
    "plt.figure(figsize=[8,6]);\n",
    "plt.plot(temps, sv_a, 'r.-');\n",
    "plt.plot(temps, sv_b, 'b.-');\n",
    "plt.ylabel('$S$');\n",
    "plt.xlabel('$T$ (temperature)');\n",
    "plt.legend(['Heating', 'Cooling'])\n",
    "plt.title('Entropy')\n",
    "plt.show();"
   ]
  },
  {
   "cell_type": "markdown",
   "metadata": {},
   "source": [
    "## Next time: Renormalization Group Approach\n",
    "\n",
    "The RG approach is ideal for examining critical behavior near to the phase transition.\n",
    "\n",
    "### <center> Ising Model </center>\n",
    "![IsingUrl](https://mrocklin.github.com/blog/images/ising.gif \"Ising\")"
   ]
  },
  {
   "cell_type": "markdown",
   "metadata": {},
   "source": [
    "### *Fractals...*\n",
    "\n",
    "### <center> Newton-Raphson Polynomial Root-Finding Fractal </center>\n",
    "![FractalUrl](https://i.gifer.com/NPp7.gif \"Root Finding Fractal\")\n",
    "\n",
    "### <center> Newton-Raphson Method </center>\n",
    "![FractalUrl](https://upload.wikimedia.org/wikipedia/commons/thumb/e/e0/NewtonIteration_Ani.gif/300px-NewtonIteration_Ani.gif \"NR Method\")"
   ]
  },
  {
   "cell_type": "code",
   "execution_count": null,
   "metadata": {},
   "outputs": [],
   "source": []
  }
 ],
 "metadata": {
  "kernelspec": {
   "display_name": "Python 3",
   "language": "python",
   "name": "python3"
  },
  "language_info": {
   "codemirror_mode": {
    "name": "ipython",
    "version": 3
   },
   "file_extension": ".py",
   "mimetype": "text/x-python",
   "name": "python",
   "nbconvert_exporter": "python",
   "pygments_lexer": "ipython3",
   "version": "3.7.5"
  },
  "widgets": {
   "application/vnd.jupyter.widget-state+json": {
    "state": {
     "00aab0697c71427ea90d6adf9b8d2b34": {
      "model_module": "@jupyter-widgets/controls",
      "model_module_version": "1.5.0",
      "model_name": "FloatSliderModel",
      "state": {
       "description": "b",
       "layout": "IPY_MODEL_285eb259e0e049a2aa8869b14e616718",
       "max": 0,
       "min": -3,
       "step": 0.1,
       "style": "IPY_MODEL_b192b86391f64a5dae0e4a9f2003a592",
       "value": -3
      }
     },
     "0140f8da32df4f0499a52dc1da118f52": {
      "model_module": "@jupyter-widgets/base",
      "model_module_version": "1.2.0",
      "model_name": "LayoutModel",
      "state": {}
     },
     "02aaff0749974853be00785911b53715": {
      "model_module": "@jupyter-widgets/controls",
      "model_module_version": "1.5.0",
      "model_name": "FloatSliderModel",
      "state": {
       "description": "c",
       "layout": "IPY_MODEL_5c7f5449e4b64259ba08cd3b41985f97",
       "max": 1,
       "min": 0.05,
       "step": 0.1,
       "style": "IPY_MODEL_1a5d891935c14900b3002a71503f8a70",
       "value": 0.95
      }
     },
     "031fe2811a454ebcbde8d3722b67e511": {
      "model_module": "@jupyter-widgets/controls",
      "model_module_version": "1.5.0",
      "model_name": "FloatSliderModel",
      "state": {
       "description": "b",
       "layout": "IPY_MODEL_97aa2da776eb4408ba30add666c34246",
       "max": 0,
       "min": -3,
       "step": 0.1,
       "style": "IPY_MODEL_7e670e066c3347e98fe281de8cf983c4",
       "value": -3
      }
     },
     "03a25b3992a442f2a9c991c5c25d4917": {
      "model_module": "@jupyter-widgets/base",
      "model_module_version": "1.2.0",
      "model_name": "LayoutModel",
      "state": {}
     },
     "07637b709a714408a84d9262e3e55430": {
      "model_module": "@jupyter-widgets/output",
      "model_module_version": "1.0.0",
      "model_name": "OutputModel",
      "state": {
       "layout": "IPY_MODEL_5281b719cae34d70a5e8a21b4a81549f",
       "outputs": [
        {
         "data": {
          "application/vnd.jupyter.widget-view+json": {
           "model_id": "",
           "version_major": 2,
           "version_minor": 0
          },
          "text/plain": "Canvas(toolbar=Toolbar(toolitems=[('Home', 'Reset original view', 'home', 'home'), ('Back', 'Back to previous …"
         },
         "metadata": {},
         "output_type": "display_data"
        }
       ]
      }
     },
     "07fe80f039774e41adbe9058d97ccf84": {
      "model_module": "@jupyter-widgets/controls",
      "model_module_version": "1.5.0",
      "model_name": "SliderStyleModel",
      "state": {
       "description_width": ""
      }
     },
     "0828835b025d4c49b2a00d140767af42": {
      "model_module": "@jupyter-widgets/base",
      "model_module_version": "1.2.0",
      "model_name": "LayoutModel",
      "state": {}
     },
     "0a0c8585e63d42a0b21b9e4ef42b605b": {
      "model_module": "@jupyter-widgets/controls",
      "model_module_version": "1.5.0",
      "model_name": "FloatSliderModel",
      "state": {
       "description": "a",
       "layout": "IPY_MODEL_fcc502fb9ff04a5c835268a848d01649",
       "max": 2,
       "step": 0.1,
       "style": "IPY_MODEL_7a666addfee942abaf314d82f8a43c43",
       "value": 1
      }
     },
     "0a1ea503ddcf4e8baf3c66567f50c55b": {
      "model_module": "@jupyter-widgets/base",
      "model_module_version": "1.2.0",
      "model_name": "LayoutModel",
      "state": {}
     },
     "0ad38abe89c64e65b18a4b9e304254e5": {
      "model_module": "@jupyter-widgets/controls",
      "model_module_version": "1.5.0",
      "model_name": "FloatSliderModel",
      "state": {
       "description": "h",
       "layout": "IPY_MODEL_4533c714391c47c8b77b528e02d210cd",
       "max": 1,
       "min": -1,
       "step": 0.1,
       "style": "IPY_MODEL_406e89b46738454283423efeb0960eb6",
       "value": -0.2
      }
     },
     "0ae1b01c6b914e80828922f8139092e6": {
      "model_module": "@jupyter-widgets/base",
      "model_module_version": "1.2.0",
      "model_name": "LayoutModel",
      "state": {}
     },
     "0b631f2b5c3c445291f0ac56dc92afee": {
      "model_module": "@jupyter-widgets/controls",
      "model_module_version": "1.5.0",
      "model_name": "FloatSliderModel",
      "state": {
       "description": "h",
       "layout": "IPY_MODEL_7680c0968b5a411bb9a7b1f13bef8304",
       "max": 1,
       "min": -1,
       "step": 0.1,
       "style": "IPY_MODEL_4c7db7fd636740b284b70c44a239f858"
      }
     },
     "0be594b50a564ddf9bb63091f2da3c16": {
      "model_module": "@jupyter-widgets/controls",
      "model_module_version": "1.5.0",
      "model_name": "SliderStyleModel",
      "state": {
       "description_width": ""
      }
     },
     "0d29bbb0fac74ea28aa3b404fbcd7b02": {
      "model_module": "@jupyter-widgets/controls",
      "model_module_version": "1.5.0",
      "model_name": "VBoxModel",
      "state": {
       "_dom_classes": [
        "widget-interact"
       ],
       "children": [
        "IPY_MODEL_6116a32d7ac44c5d9d9a2e54cfb1340c",
        "IPY_MODEL_a02776cb575548358779ba5a7ceb7a3a",
        "IPY_MODEL_ac800519bb2d485a8429863fd4ae799b",
        "IPY_MODEL_5b28f94afaae4f9580e467bfdd637d57",
        "IPY_MODEL_2e886e3232424e34854116be7ad1bf60",
        "IPY_MODEL_1f63c8ab718f47f7839120f9bdf29fbd"
       ],
       "layout": "IPY_MODEL_23f424729f444b418fb974dd9864f335"
      }
     },
     "0ecd2ebd9c0f43d0a254f5bcfb71caf0": {
      "model_module": "@jupyter-widgets/base",
      "model_module_version": "1.2.0",
      "model_name": "LayoutModel",
      "state": {}
     },
     "0f1688d35a824ec5809ec74a73363cf9": {
      "model_module": "@jupyter-widgets/base",
      "model_module_version": "1.2.0",
      "model_name": "LayoutModel",
      "state": {}
     },
     "0f9c8751290c4ae7acf3a0d93c7be229": {
      "model_module": "@jupyter-widgets/controls",
      "model_module_version": "1.5.0",
      "model_name": "FloatSliderModel",
      "state": {
       "description": "a",
       "layout": "IPY_MODEL_6eeae29d920d4b2a86608a13011537c7",
       "max": 2,
       "step": 0.1,
       "style": "IPY_MODEL_98c9f17c0fb941feba118877d7aaab84",
       "value": 1
      }
     },
     "0ffa4658ff0346a3b2bcda2f24a0f4fd": {
      "model_module": "@jupyter-widgets/base",
      "model_module_version": "1.2.0",
      "model_name": "LayoutModel",
      "state": {}
     },
     "117e9bfb1fa64c6fabaea1d8b115464c": {
      "model_module": "@jupyter-widgets/controls",
      "model_module_version": "1.5.0",
      "model_name": "SliderStyleModel",
      "state": {
       "description_width": ""
      }
     },
     "12e136e89be34b089e31ea84871249b5": {
      "model_module": "@jupyter-widgets/controls",
      "model_module_version": "1.5.0",
      "model_name": "FloatSliderModel",
      "state": {
       "description": "h",
       "layout": "IPY_MODEL_d3078c8f5e64422cb61b05a045b3d6d8",
       "max": 1,
       "min": -1,
       "step": 0.1,
       "style": "IPY_MODEL_5b6d6ac5fdfd416b9b30e4fa2ab01701",
       "value": -0.2
      }
     },
     "13750235c0e445f6b3ac74a157195c68": {
      "model_module": "@jupyter-widgets/base",
      "model_module_version": "1.2.0",
      "model_name": "LayoutModel",
      "state": {}
     },
     "13c828bd3a5646489727499661e52dae": {
      "model_module": "@jupyter-widgets/base",
      "model_module_version": "1.2.0",
      "model_name": "LayoutModel",
      "state": {}
     },
     "13df1d1550774774a2a33f47dd028989": {
      "model_module": "@jupyter-widgets/base",
      "model_module_version": "1.2.0",
      "model_name": "LayoutModel",
      "state": {}
     },
     "143f2161458b4bc586d17932b2ebf174": {
      "model_module": "@jupyter-widgets/base",
      "model_module_version": "1.2.0",
      "model_name": "LayoutModel",
      "state": {}
     },
     "15602fad5369431190a2124bf208cfed": {
      "model_module": "@jupyter-widgets/controls",
      "model_module_version": "1.5.0",
      "model_name": "SliderStyleModel",
      "state": {
       "description_width": ""
      }
     },
     "159ae9b57a73442790f0334aa4150c8e": {
      "model_module": "@jupyter-widgets/base",
      "model_module_version": "1.2.0",
      "model_name": "LayoutModel",
      "state": {}
     },
     "174a644301a84c2f84f8178cbd0c59e1": {
      "model_module": "@jupyter-widgets/base",
      "model_module_version": "1.2.0",
      "model_name": "LayoutModel",
      "state": {}
     },
     "19d45cd734f9498b9503f37103a74f86": {
      "model_module": "@jupyter-widgets/controls",
      "model_module_version": "1.5.0",
      "model_name": "SliderStyleModel",
      "state": {
       "description_width": ""
      }
     },
     "1a5d891935c14900b3002a71503f8a70": {
      "model_module": "@jupyter-widgets/controls",
      "model_module_version": "1.5.0",
      "model_name": "SliderStyleModel",
      "state": {
       "description_width": ""
      }
     },
     "1af07a98aa314a38b668a7a485ec360e": {
      "model_module": "@jupyter-widgets/base",
      "model_module_version": "1.2.0",
      "model_name": "LayoutModel",
      "state": {}
     },
     "1c05dc0a47d04a2aa388002d94576b2f": {
      "model_module": "@jupyter-widgets/controls",
      "model_module_version": "1.5.0",
      "model_name": "VBoxModel",
      "state": {
       "_dom_classes": [
        "widget-interact"
       ],
       "children": [
        "IPY_MODEL_89c871f89ade4e30a205de37082749db",
        "IPY_MODEL_60f54bdf13924df48df84a3a65afaede",
        "IPY_MODEL_558d9fc284ec4f328decc36b1fe0731d",
        "IPY_MODEL_2874e5a91c5d4adbae0f7f3fca4020a0",
        "IPY_MODEL_3092f75971184b64890e088d40452107",
        "IPY_MODEL_b3966dbaa5d041fe9749f36dd2319032"
       ],
       "layout": "IPY_MODEL_4a55252e09e64bddb8f10e8b557fbc10"
      }
     },
     "1dd207a70c0948f9be925ceb861cc9be": {
      "model_module": "@jupyter-widgets/controls",
      "model_module_version": "1.5.0",
      "model_name": "SliderStyleModel",
      "state": {
       "description_width": ""
      }
     },
     "1dd97e0717af491b964d782cba87501c": {
      "model_module": "@jupyter-widgets/base",
      "model_module_version": "1.2.0",
      "model_name": "LayoutModel",
      "state": {}
     },
     "1ee6ac0915c4443ea5cdf812052cf80c": {
      "model_module": "jupyter-matplotlib",
      "model_module_version": "^0.9.0",
      "model_name": "ToolbarModel",
      "state": {
       "layout": "IPY_MODEL_b8b7d3fe02d24c48a0763ec1e92f2b13",
       "toolitems": [
        [
         "Home",
         "Reset original view",
         "home",
         "home"
        ],
        [
         "Back",
         "Back to previous view",
         "arrow-left",
         "back"
        ],
        [
         "Forward",
         "Forward to next view",
         "arrow-right",
         "forward"
        ],
        [
         "Pan",
         "Pan axes with left mouse, zoom with right",
         "arrows",
         "pan"
        ],
        [
         "Zoom",
         "Zoom to rectangle",
         "square-o",
         "zoom"
        ],
        [
         "Download",
         "Download plot",
         "floppy-o",
         "save_figure"
        ]
       ]
      }
     },
     "1f37971b3a32421981af0b83dc93b631": {
      "model_module": "@jupyter-widgets/base",
      "model_module_version": "1.2.0",
      "model_name": "LayoutModel",
      "state": {}
     },
     "1f63c8ab718f47f7839120f9bdf29fbd": {
      "model_module": "@jupyter-widgets/output",
      "model_module_version": "1.0.0",
      "model_name": "OutputModel",
      "state": {
       "layout": "IPY_MODEL_e6839b87ac3c4b66ae07dcf58f7c9675",
       "outputs": [
        {
         "data": {
          "application/vnd.jupyter.widget-view+json": {
           "model_id": "",
           "version_major": 2,
           "version_minor": 0
          },
          "text/plain": "Canvas(toolbar=Toolbar(toolitems=[('Home', 'Reset original view', 'home', 'home'), ('Back', 'Back to previous …"
         },
         "metadata": {},
         "output_type": "display_data"
        }
       ]
      }
     },
     "2129c8cb0e06473ca2dba4494306bcf4": {
      "model_module": "@jupyter-widgets/base",
      "model_module_version": "1.2.0",
      "model_name": "LayoutModel",
      "state": {}
     },
     "219026ee25374ea19317435136e919ff": {
      "model_module": "@jupyter-widgets/base",
      "model_module_version": "1.2.0",
      "model_name": "LayoutModel",
      "state": {}
     },
     "23f424729f444b418fb974dd9864f335": {
      "model_module": "@jupyter-widgets/base",
      "model_module_version": "1.2.0",
      "model_name": "LayoutModel",
      "state": {}
     },
     "24027414366c4d66bd5a9c65c1a5c9df": {
      "model_module": "@jupyter-widgets/controls",
      "model_module_version": "1.5.0",
      "model_name": "SliderStyleModel",
      "state": {
       "description_width": ""
      }
     },
     "24369b1387d5450cb4fe1ffa45f5c843": {
      "model_module": "@jupyter-widgets/base",
      "model_module_version": "1.2.0",
      "model_name": "LayoutModel",
      "state": {}
     },
     "24474af9b5dd4e66a57ecf4f4cf5f40f": {
      "model_module": "@jupyter-widgets/controls",
      "model_module_version": "1.5.0",
      "model_name": "SliderStyleModel",
      "state": {
       "description_width": ""
      }
     },
     "246ed0b7630f49a38327e24cfda8dd56": {
      "model_module": "@jupyter-widgets/base",
      "model_module_version": "1.2.0",
      "model_name": "LayoutModel",
      "state": {}
     },
     "25301efc594346d3bd53d79618ea9ab6": {
      "model_module": "@jupyter-widgets/controls",
      "model_module_version": "1.5.0",
      "model_name": "FloatSliderModel",
      "state": {
       "description": "T",
       "layout": "IPY_MODEL_219026ee25374ea19317435136e919ff",
       "max": 3,
       "step": 0.1,
       "style": "IPY_MODEL_5821288a49d04fdaa70e4b5db811b361",
       "value": 1.5
      }
     },
     "25b425f7d29746afab67b52ee86be185": {
      "model_module": "@jupyter-widgets/controls",
      "model_module_version": "1.5.0",
      "model_name": "SliderStyleModel",
      "state": {
       "description_width": ""
      }
     },
     "25f0437ff3d74af3b07b92c3b03b5b7d": {
      "model_module": "@jupyter-widgets/controls",
      "model_module_version": "1.5.0",
      "model_name": "FloatSliderModel",
      "state": {
       "description": "a",
       "layout": "IPY_MODEL_6cd35dccd48c4ed286c2a9fd7342d21c",
       "max": 2,
       "step": 0.1,
       "style": "IPY_MODEL_53592e123ade4ed5890a8e5ae73deb42",
       "value": 1.2
      }
     },
     "285eb259e0e049a2aa8869b14e616718": {
      "model_module": "@jupyter-widgets/base",
      "model_module_version": "1.2.0",
      "model_name": "LayoutModel",
      "state": {}
     },
     "2874e5a91c5d4adbae0f7f3fca4020a0": {
      "model_module": "@jupyter-widgets/controls",
      "model_module_version": "1.5.0",
      "model_name": "FloatSliderModel",
      "state": {
       "description": "h",
       "layout": "IPY_MODEL_361b8a63f7664662b2f25064b24ac78a",
       "max": 1,
       "min": -1,
       "step": 0.1,
       "style": "IPY_MODEL_533e312391964c66a91fa1d07ff58d5f"
      }
     },
     "293914ebbae84cbcbfa038e8ba47008f": {
      "model_module": "@jupyter-widgets/base",
      "model_module_version": "1.2.0",
      "model_name": "LayoutModel",
      "state": {}
     },
     "2af3c035fcf2458691c62a8bb7a5d174": {
      "model_module": "@jupyter-widgets/base",
      "model_module_version": "1.2.0",
      "model_name": "LayoutModel",
      "state": {}
     },
     "2b49dabbb04649a2a1445eca008b6366": {
      "model_module": "jupyter-matplotlib",
      "model_module_version": "^0.9.0",
      "model_name": "ToolbarModel",
      "state": {
       "layout": "IPY_MODEL_293914ebbae84cbcbfa038e8ba47008f",
       "toolitems": [
        [
         "Home",
         "Reset original view",
         "home",
         "home"
        ],
        [
         "Back",
         "Back to previous view",
         "arrow-left",
         "back"
        ],
        [
         "Forward",
         "Forward to next view",
         "arrow-right",
         "forward"
        ],
        [
         "Pan",
         "Pan axes with left mouse, zoom with right",
         "arrows",
         "pan"
        ],
        [
         "Zoom",
         "Zoom to rectangle",
         "square-o",
         "zoom"
        ],
        [
         "Download",
         "Download plot",
         "floppy-o",
         "save_figure"
        ]
       ]
      }
     },
     "2c1ed836fea2483fb199508f4c21f83f": {
      "model_module": "@jupyter-widgets/base",
      "model_module_version": "1.2.0",
      "model_name": "LayoutModel",
      "state": {}
     },
     "2de16847973c4b2087d0a134d6d38686": {
      "model_module": "@jupyter-widgets/controls",
      "model_module_version": "1.5.0",
      "model_name": "SliderStyleModel",
      "state": {
       "description_width": ""
      }
     },
     "2e886e3232424e34854116be7ad1bf60": {
      "model_module": "@jupyter-widgets/controls",
      "model_module_version": "1.5.0",
      "model_name": "FloatSliderModel",
      "state": {
       "description": "T",
       "layout": "IPY_MODEL_c0b0d96489a54ee28584dbc812ee0ce6",
       "max": 3,
       "step": 0.1,
       "style": "IPY_MODEL_c28c595511da4f4b8c815d9b363a92b3",
       "value": 1.5
      }
     },
     "2f0bfc44e74142ee9032b6fedabf8a95": {
      "model_module": "@jupyter-widgets/controls",
      "model_module_version": "1.5.0",
      "model_name": "FloatSliderModel",
      "state": {
       "description": "c",
       "layout": "IPY_MODEL_2fc2ccda2c2440d4ac01e056a5887dce",
       "max": 1,
       "min": 0.05,
       "step": 0.1,
       "style": "IPY_MODEL_6d664b7aa8f64c46a652741420b16489",
       "value": 0.45
      }
     },
     "2f2e9947772f426fa92e1d5f99711fa7": {
      "model_module": "@jupyter-widgets/controls",
      "model_module_version": "1.5.0",
      "model_name": "FloatSliderModel",
      "state": {
       "description": "b",
       "layout": "IPY_MODEL_ad78a6090e94422485a76d67f5f16955",
       "max": 0,
       "min": -3,
       "step": 0.1,
       "style": "IPY_MODEL_9f757dc260ce4b14847dc7f6754e4fb9",
       "value": -1.5
      }
     },
     "2fc2ccda2c2440d4ac01e056a5887dce": {
      "model_module": "@jupyter-widgets/base",
      "model_module_version": "1.2.0",
      "model_name": "LayoutModel",
      "state": {}
     },
     "3005830dc33043c5a3554c039d0eaa4c": {
      "model_module": "@jupyter-widgets/controls",
      "model_module_version": "1.5.0",
      "model_name": "VBoxModel",
      "state": {
       "_dom_classes": [
        "widget-interact"
       ],
       "children": [
        "IPY_MODEL_81ddf2f0df274ae3b9e1ef0ca684aefd",
        "IPY_MODEL_2f2e9947772f426fa92e1d5f99711fa7",
        "IPY_MODEL_723b2e9d88614f3c8e96cd376924e9b5",
        "IPY_MODEL_0b631f2b5c3c445291f0ac56dc92afee",
        "IPY_MODEL_8b91d818b53c45b5b8d38ba3c825ccdf",
        "IPY_MODEL_c685ade4a7ee4cf7a4ac706fbdb95016"
       ],
       "layout": "IPY_MODEL_1af07a98aa314a38b668a7a485ec360e"
      }
     },
     "3092f75971184b64890e088d40452107": {
      "model_module": "@jupyter-widgets/controls",
      "model_module_version": "1.5.0",
      "model_name": "FloatSliderModel",
      "state": {
       "description": "T",
       "layout": "IPY_MODEL_a8a0b74aff2a42048088c4b40b48314c",
       "max": 3,
       "step": 0.1,
       "style": "IPY_MODEL_1dd207a70c0948f9be925ceb861cc9be",
       "value": 1.5
      }
     },
     "30d0bf812f6348b1a51f7333e07eb49f": {
      "model_module": "@jupyter-widgets/base",
      "model_module_version": "1.2.0",
      "model_name": "LayoutModel",
      "state": {}
     },
     "310524ec4a834188b8aed96d430ba403": {
      "model_module": "@jupyter-widgets/base",
      "model_module_version": "1.2.0",
      "model_name": "LayoutModel",
      "state": {}
     },
     "313f2eb8f74c466fb0c8b6d6cacf4d8a": {
      "model_module": "@jupyter-widgets/controls",
      "model_module_version": "1.5.0",
      "model_name": "SliderStyleModel",
      "state": {
       "description_width": ""
      }
     },
     "31b9921c401e4ecda6dd7f60bd58b462": {
      "model_module": "@jupyter-widgets/base",
      "model_module_version": "1.2.0",
      "model_name": "LayoutModel",
      "state": {}
     },
     "31c15e9f61f146ceabe907e22896584e": {
      "model_module": "@jupyter-widgets/base",
      "model_module_version": "1.2.0",
      "model_name": "LayoutModel",
      "state": {}
     },
     "31ee0eb4d5c14c6bbddea0dbfc27bfe0": {
      "model_module": "@jupyter-widgets/controls",
      "model_module_version": "1.5.0",
      "model_name": "SliderStyleModel",
      "state": {
       "description_width": ""
      }
     },
     "33010c0207484bc193992d376e9f8d97": {
      "model_module": "@jupyter-widgets/controls",
      "model_module_version": "1.5.0",
      "model_name": "FloatSliderModel",
      "state": {
       "description": "h",
       "layout": "IPY_MODEL_a2b471dd64134f639d6c8eb0e36c9baa",
       "max": 1,
       "min": -1,
       "step": 0.1,
       "style": "IPY_MODEL_701e9df700844d7a9d71af76bdafcf86"
      }
     },
     "33057def50b74399a02b999d645a8bef": {
      "model_module": "@jupyter-widgets/base",
      "model_module_version": "1.2.0",
      "model_name": "LayoutModel",
      "state": {}
     },
     "339237bd921d48e6b66986a9f3e325c2": {
      "model_module": "@jupyter-widgets/controls",
      "model_module_version": "1.5.0",
      "model_name": "FloatSliderModel",
      "state": {
       "description": "a",
       "layout": "IPY_MODEL_bce193bd9fab49cc9d8994859457d7cd",
       "max": 2,
       "step": 0.1,
       "style": "IPY_MODEL_61a566348217466e86b85fe9ec0f018d",
       "value": 1
      }
     },
     "36044516fa074cfaa97f117b64d67d7b": {
      "model_module": "@jupyter-widgets/base",
      "model_module_version": "1.2.0",
      "model_name": "LayoutModel",
      "state": {}
     },
     "361b8a63f7664662b2f25064b24ac78a": {
      "model_module": "@jupyter-widgets/base",
      "model_module_version": "1.2.0",
      "model_name": "LayoutModel",
      "state": {}
     },
     "365ee040d8c442f7909f4ffb8c1f2caf": {
      "model_module": "@jupyter-widgets/controls",
      "model_module_version": "1.5.0",
      "model_name": "FloatSliderModel",
      "state": {
       "description": "h",
       "layout": "IPY_MODEL_76ac7dd3b28a4ac0a939591b89c8b089",
       "max": 1,
       "min": -1,
       "step": 0.1,
       "style": "IPY_MODEL_9ab0038ecf8e478a96c1e6b18b474517"
      }
     },
     "3855762106504f8cb835ab6b05df145c": {
      "model_module": "@jupyter-widgets/controls",
      "model_module_version": "1.5.0",
      "model_name": "VBoxModel",
      "state": {
       "_dom_classes": [
        "widget-interact"
       ],
       "children": [
        "IPY_MODEL_4b9a65c53b7d4b1aa586c7d94af3690d",
        "IPY_MODEL_f5d05c4f75c94c6c839b59de27802d1a",
        "IPY_MODEL_51d8911803b24f13b35dc86352a74dc6",
        "IPY_MODEL_84bcf4eb299740f29af8cbfc21280dff",
        "IPY_MODEL_8496720e76d74762bc1d002ab478ea2a",
        "IPY_MODEL_3ddc5bd8a36842bd95c51e2401c34bee"
       ],
       "layout": "IPY_MODEL_4b65764a76a44b9986154d8e6c8026c3"
      }
     },
     "387d174af56348b0a7962ccc5a5b04f4": {
      "model_module": "@jupyter-widgets/base",
      "model_module_version": "1.2.0",
      "model_name": "LayoutModel",
      "state": {}
     },
     "38916abecbef48f096baf7a898dc1720": {
      "model_module": "@jupyter-widgets/base",
      "model_module_version": "1.2.0",
      "model_name": "LayoutModel",
      "state": {}
     },
     "38e0c8dc288d470f8eadad4e3a35e0ef": {
      "model_module": "@jupyter-widgets/output",
      "model_module_version": "1.0.0",
      "model_name": "OutputModel",
      "state": {
       "layout": "IPY_MODEL_143f2161458b4bc586d17932b2ebf174",
       "outputs": [
        {
         "data": {
          "application/vnd.jupyter.widget-view+json": {
           "model_id": "",
           "version_major": 2,
           "version_minor": 0
          },
          "text/plain": "Canvas(toolbar=Toolbar(toolitems=[('Home', 'Reset original view', 'home', 'home'), ('Back', 'Back to previous …"
         },
         "metadata": {},
         "output_type": "display_data"
        }
       ]
      }
     },
     "39c6208b47fc4e5f87af6467794e2663": {
      "model_module": "@jupyter-widgets/controls",
      "model_module_version": "1.5.0",
      "model_name": "SliderStyleModel",
      "state": {
       "description_width": ""
      }
     },
     "3dcaa9d0a22a4777a35c6db61400dc01": {
      "model_module": "@jupyter-widgets/controls",
      "model_module_version": "1.5.0",
      "model_name": "FloatSliderModel",
      "state": {
       "description": "a",
       "layout": "IPY_MODEL_c3e9dd7e1c214f9d9fef35aa393e7576",
       "max": 2,
       "step": 0.1,
       "style": "IPY_MODEL_31ee0eb4d5c14c6bbddea0dbfc27bfe0",
       "value": 1
      }
     },
     "3ddc5bd8a36842bd95c51e2401c34bee": {
      "model_module": "@jupyter-widgets/output",
      "model_module_version": "1.0.0",
      "model_name": "OutputModel",
      "state": {
       "layout": "IPY_MODEL_f20fd73cb67645e387dfa2eec0cef35b",
       "outputs": [
        {
         "data": {
          "application/vnd.jupyter.widget-view+json": {
           "model_id": "",
           "version_major": 2,
           "version_minor": 0
          },
          "text/plain": "Canvas(toolbar=Toolbar(toolitems=[('Home', 'Reset original view', 'home', 'home'), ('Back', 'Back to previous …"
         },
         "metadata": {},
         "output_type": "display_data"
        }
       ]
      }
     },
     "3e0473e9c5d14c88b0a188784a48e434": {
      "model_module": "@jupyter-widgets/controls",
      "model_module_version": "1.5.0",
      "model_name": "FloatSliderModel",
      "state": {
       "description": "a",
       "layout": "IPY_MODEL_2af3c035fcf2458691c62a8bb7a5d174",
       "max": 2,
       "step": 0.1,
       "style": "IPY_MODEL_53d88103d7f9428da8eb7831caec31e1",
       "value": 1
      }
     },
     "3ef43a5b262144f2b417e93cb0be6768": {
      "model_module": "@jupyter-widgets/base",
      "model_module_version": "1.2.0",
      "model_name": "LayoutModel",
      "state": {}
     },
     "406e89b46738454283423efeb0960eb6": {
      "model_module": "@jupyter-widgets/controls",
      "model_module_version": "1.5.0",
      "model_name": "SliderStyleModel",
      "state": {
       "description_width": ""
      }
     },
     "4207a352901747c78bfd4d4b6ff1519b": {
      "model_module": "jupyter-matplotlib",
      "model_module_version": "^0.9.0",
      "model_name": "MPLCanvasModel",
      "state": {
       "_figure_label": "Figure 100",
       "_height": 400,
       "_width": 600,
       "layout": "IPY_MODEL_0ffa4658ff0346a3b2bcda2f24a0f4fd",
       "toolbar": "IPY_MODEL_90414d46fa544ffeb5c1689ebab33405",
       "toolbar_position": "left"
      }
     },
     "4219eb909a3640da978f75b05c3b6c41": {
      "model_module": "@jupyter-widgets/controls",
      "model_module_version": "1.5.0",
      "model_name": "FloatSliderModel",
      "state": {
       "description": "c",
       "layout": "IPY_MODEL_5693078c40874be29caed9054349a6dc",
       "max": 1,
       "min": 0.05,
       "step": 0.1,
       "style": "IPY_MODEL_a6f879a256744294beed0b41f9a201d8",
       "value": 0.45
      }
     },
     "4262e6683e4b4ca6847ae275baf3ac78": {
      "model_module": "@jupyter-widgets/controls",
      "model_module_version": "1.5.0",
      "model_name": "SliderStyleModel",
      "state": {
       "description_width": ""
      }
     },
     "4533c714391c47c8b77b528e02d210cd": {
      "model_module": "@jupyter-widgets/base",
      "model_module_version": "1.2.0",
      "model_name": "LayoutModel",
      "state": {}
     },
     "48d885ab8f8c40598ce25785e0472ae9": {
      "model_module": "@jupyter-widgets/base",
      "model_module_version": "1.2.0",
      "model_name": "LayoutModel",
      "state": {}
     },
     "491ca717ae8c42799b4f04463ab72ca2": {
      "model_module": "@jupyter-widgets/base",
      "model_module_version": "1.2.0",
      "model_name": "LayoutModel",
      "state": {}
     },
     "4980aad8f3a74abbb25793ae7df2cc18": {
      "model_module": "@jupyter-widgets/base",
      "model_module_version": "1.2.0",
      "model_name": "LayoutModel",
      "state": {}
     },
     "4a55252e09e64bddb8f10e8b557fbc10": {
      "model_module": "@jupyter-widgets/base",
      "model_module_version": "1.2.0",
      "model_name": "LayoutModel",
      "state": {}
     },
     "4b65764a76a44b9986154d8e6c8026c3": {
      "model_module": "@jupyter-widgets/base",
      "model_module_version": "1.2.0",
      "model_name": "LayoutModel",
      "state": {}
     },
     "4b9a65c53b7d4b1aa586c7d94af3690d": {
      "model_module": "@jupyter-widgets/controls",
      "model_module_version": "1.5.0",
      "model_name": "FloatSliderModel",
      "state": {
       "description": "a",
       "layout": "IPY_MODEL_bcbc8c5c4b6a4533a51b638c9f12f20d",
       "max": 2,
       "step": 0.1,
       "style": "IPY_MODEL_78acfb520e3d4c979004412b6d4cb492",
       "value": 1
      }
     },
     "4c349a8d46074d47a90da276d3696ec2": {
      "model_module": "@jupyter-widgets/controls",
      "model_module_version": "1.5.0",
      "model_name": "FloatSliderModel",
      "state": {
       "description": "T",
       "layout": "IPY_MODEL_51b2d19cf2f243efb66d528dc9fa1db7",
       "max": 3,
       "step": 0.1,
       "style": "IPY_MODEL_62c2c624d4554a3c8686d58f12b2ea5f",
       "value": 1.5
      }
     },
     "4c7db7fd636740b284b70c44a239f858": {
      "model_module": "@jupyter-widgets/controls",
      "model_module_version": "1.5.0",
      "model_name": "SliderStyleModel",
      "state": {
       "description_width": ""
      }
     },
     "4ce3db2c70a642eaa89ecdf9f916887d": {
      "model_module": "jupyter-matplotlib",
      "model_module_version": "^0.9.0",
      "model_name": "ToolbarModel",
      "state": {
       "layout": "IPY_MODEL_82ad1ec235c845d982e5ec864ccc8242",
       "toolitems": [
        [
         "Home",
         "Reset original view",
         "home",
         "home"
        ],
        [
         "Back",
         "Back to previous view",
         "arrow-left",
         "back"
        ],
        [
         "Forward",
         "Forward to next view",
         "arrow-right",
         "forward"
        ],
        [
         "Pan",
         "Pan axes with left mouse, zoom with right",
         "arrows",
         "pan"
        ],
        [
         "Zoom",
         "Zoom to rectangle",
         "square-o",
         "zoom"
        ],
        [
         "Download",
         "Download plot",
         "floppy-o",
         "save_figure"
        ]
       ]
      }
     },
     "4d269f3522c24edcbf98e96824c5bcb9": {
      "model_module": "@jupyter-widgets/controls",
      "model_module_version": "1.5.0",
      "model_name": "FloatSliderModel",
      "state": {
       "description": "T",
       "layout": "IPY_MODEL_13df1d1550774774a2a33f47dd028989",
       "max": 3,
       "step": 0.1,
       "style": "IPY_MODEL_19d45cd734f9498b9503f37103a74f86",
       "value": 1.5
      }
     },
     "5162cecc6cc84b72b9818286df23cb6b": {
      "model_module": "@jupyter-widgets/base",
      "model_module_version": "1.2.0",
      "model_name": "LayoutModel",
      "state": {}
     },
     "51b2d19cf2f243efb66d528dc9fa1db7": {
      "model_module": "@jupyter-widgets/base",
      "model_module_version": "1.2.0",
      "model_name": "LayoutModel",
      "state": {}
     },
     "51d8911803b24f13b35dc86352a74dc6": {
      "model_module": "@jupyter-widgets/controls",
      "model_module_version": "1.5.0",
      "model_name": "FloatSliderModel",
      "state": {
       "description": "c",
       "layout": "IPY_MODEL_6e7e73df43d142708c22d122b9d1b5d0",
       "max": 1,
       "min": 0.05,
       "step": 0.1,
       "style": "IPY_MODEL_5aad465d9c4e4f1db3ec72180b7faec7",
       "value": 0.45
      }
     },
     "5281b719cae34d70a5e8a21b4a81549f": {
      "model_module": "@jupyter-widgets/base",
      "model_module_version": "1.2.0",
      "model_name": "LayoutModel",
      "state": {}
     },
     "533e312391964c66a91fa1d07ff58d5f": {
      "model_module": "@jupyter-widgets/controls",
      "model_module_version": "1.5.0",
      "model_name": "SliderStyleModel",
      "state": {
       "description_width": ""
      }
     },
     "53592e123ade4ed5890a8e5ae73deb42": {
      "model_module": "@jupyter-widgets/controls",
      "model_module_version": "1.5.0",
      "model_name": "SliderStyleModel",
      "state": {
       "description_width": ""
      }
     },
     "53d88103d7f9428da8eb7831caec31e1": {
      "model_module": "@jupyter-widgets/controls",
      "model_module_version": "1.5.0",
      "model_name": "SliderStyleModel",
      "state": {
       "description_width": ""
      }
     },
     "558d9fc284ec4f328decc36b1fe0731d": {
      "model_module": "@jupyter-widgets/controls",
      "model_module_version": "1.5.0",
      "model_name": "FloatSliderModel",
      "state": {
       "description": "c",
       "layout": "IPY_MODEL_a0bc90d4a1c3458fb37e075e8385879e",
       "max": 1,
       "min": 0.05,
       "step": 0.1,
       "style": "IPY_MODEL_f99b823524d34af1a5b67934e72c48b0",
       "value": 0.45
      }
     },
     "5693078c40874be29caed9054349a6dc": {
      "model_module": "@jupyter-widgets/base",
      "model_module_version": "1.2.0",
      "model_name": "LayoutModel",
      "state": {}
     },
     "57341282dc7d4d0ca6f39463aa8d2bcb": {
      "model_module": "jupyter-matplotlib",
      "model_module_version": "^0.9.0",
      "model_name": "ToolbarModel",
      "state": {
       "layout": "IPY_MODEL_e43548b560b54357a5195df3d33796e3",
       "toolitems": [
        [
         "Home",
         "Reset original view",
         "home",
         "home"
        ],
        [
         "Back",
         "Back to previous view",
         "arrow-left",
         "back"
        ],
        [
         "Forward",
         "Forward to next view",
         "arrow-right",
         "forward"
        ],
        [
         "Pan",
         "Pan axes with left mouse, zoom with right",
         "arrows",
         "pan"
        ],
        [
         "Zoom",
         "Zoom to rectangle",
         "square-o",
         "zoom"
        ],
        [
         "Download",
         "Download plot",
         "floppy-o",
         "save_figure"
        ]
       ]
      }
     },
     "5821288a49d04fdaa70e4b5db811b361": {
      "model_module": "@jupyter-widgets/controls",
      "model_module_version": "1.5.0",
      "model_name": "SliderStyleModel",
      "state": {
       "description_width": ""
      }
     },
     "5969b39b889c40a48e70469cfb118916": {
      "model_module": "@jupyter-widgets/base",
      "model_module_version": "1.2.0",
      "model_name": "LayoutModel",
      "state": {}
     },
     "5a0e4263c9634c8d96bf75eed8d67e16": {
      "model_module": "@jupyter-widgets/base",
      "model_module_version": "1.2.0",
      "model_name": "LayoutModel",
      "state": {}
     },
     "5aad465d9c4e4f1db3ec72180b7faec7": {
      "model_module": "@jupyter-widgets/controls",
      "model_module_version": "1.5.0",
      "model_name": "SliderStyleModel",
      "state": {
       "description_width": ""
      }
     },
     "5b28f94afaae4f9580e467bfdd637d57": {
      "model_module": "@jupyter-widgets/controls",
      "model_module_version": "1.5.0",
      "model_name": "FloatSliderModel",
      "state": {
       "description": "h",
       "layout": "IPY_MODEL_c72d23abe20b4ab3a6e892e1a4c4c40a",
       "max": 1,
       "min": -1,
       "step": 0.1,
       "style": "IPY_MODEL_4262e6683e4b4ca6847ae275baf3ac78"
      }
     },
     "5b6d6ac5fdfd416b9b30e4fa2ab01701": {
      "model_module": "@jupyter-widgets/controls",
      "model_module_version": "1.5.0",
      "model_name": "SliderStyleModel",
      "state": {
       "description_width": ""
      }
     },
     "5b92790d5f784f0ba5738baf0520ef65": {
      "model_module": "@jupyter-widgets/base",
      "model_module_version": "1.2.0",
      "model_name": "LayoutModel",
      "state": {}
     },
     "5c7f5449e4b64259ba08cd3b41985f97": {
      "model_module": "@jupyter-widgets/base",
      "model_module_version": "1.2.0",
      "model_name": "LayoutModel",
      "state": {}
     },
     "5ce7d216c098447db1537d387cc69e6f": {
      "model_module": "@jupyter-widgets/controls",
      "model_module_version": "1.5.0",
      "model_name": "SliderStyleModel",
      "state": {
       "description_width": ""
      }
     },
     "5f7b35725b4a4a4bb6d12e995c27eec3": {
      "model_module": "@jupyter-widgets/base",
      "model_module_version": "1.2.0",
      "model_name": "LayoutModel",
      "state": {}
     },
     "5fa2b7b30226441ab3b058c7ddcb11ec": {
      "model_module": "@jupyter-widgets/base",
      "model_module_version": "1.2.0",
      "model_name": "LayoutModel",
      "state": {}
     },
     "5fd5b348cf184c2b959d5eff0bd88372": {
      "model_module": "@jupyter-widgets/base",
      "model_module_version": "1.2.0",
      "model_name": "LayoutModel",
      "state": {}
     },
     "60f54bdf13924df48df84a3a65afaede": {
      "model_module": "@jupyter-widgets/controls",
      "model_module_version": "1.5.0",
      "model_name": "FloatSliderModel",
      "state": {
       "description": "b",
       "layout": "IPY_MODEL_6bf6ffc805fb4777a98ecdc7e291757a",
       "max": 0,
       "min": -3,
       "step": 0.1,
       "style": "IPY_MODEL_c028f367622c4ceb8d10af8ba6a8a3b3",
       "value": -1.5
      }
     },
     "60f560b642904e8c835261e8f2547723": {
      "model_module": "@jupyter-widgets/controls",
      "model_module_version": "1.5.0",
      "model_name": "SliderStyleModel",
      "state": {
       "description_width": ""
      }
     },
     "6116a32d7ac44c5d9d9a2e54cfb1340c": {
      "model_module": "@jupyter-widgets/controls",
      "model_module_version": "1.5.0",
      "model_name": "FloatSliderModel",
      "state": {
       "description": "a",
       "layout": "IPY_MODEL_24369b1387d5450cb4fe1ffa45f5c843",
       "max": 2,
       "step": 0.1,
       "style": "IPY_MODEL_cd743262d656486598b50b26630c059c",
       "value": 1
      }
     },
     "61960bd5d59546af87fe2091da6ce2ed": {
      "model_module": "jupyter-matplotlib",
      "model_module_version": "^0.9.0",
      "model_name": "ToolbarModel",
      "state": {
       "layout": "IPY_MODEL_dc1dcd359bcb4eba87b0b823d92ad1df",
       "toolitems": [
        [
         "Home",
         "Reset original view",
         "home",
         "home"
        ],
        [
         "Back",
         "Back to previous view",
         "arrow-left",
         "back"
        ],
        [
         "Forward",
         "Forward to next view",
         "arrow-right",
         "forward"
        ],
        [
         "Pan",
         "Pan axes with left mouse, zoom with right",
         "arrows",
         "pan"
        ],
        [
         "Zoom",
         "Zoom to rectangle",
         "square-o",
         "zoom"
        ],
        [
         "Download",
         "Download plot",
         "floppy-o",
         "save_figure"
        ]
       ]
      }
     },
     "61a566348217466e86b85fe9ec0f018d": {
      "model_module": "@jupyter-widgets/controls",
      "model_module_version": "1.5.0",
      "model_name": "SliderStyleModel",
      "state": {
       "description_width": ""
      }
     },
     "62229ee7ab034270902d24ac4e1eeb28": {
      "model_module": "@jupyter-widgets/base",
      "model_module_version": "1.2.0",
      "model_name": "LayoutModel",
      "state": {}
     },
     "629911d8f0504631a9644e927e31f705": {
      "model_module": "@jupyter-widgets/controls",
      "model_module_version": "1.5.0",
      "model_name": "SliderStyleModel",
      "state": {
       "description_width": ""
      }
     },
     "62c2c624d4554a3c8686d58f12b2ea5f": {
      "model_module": "@jupyter-widgets/controls",
      "model_module_version": "1.5.0",
      "model_name": "SliderStyleModel",
      "state": {
       "description_width": ""
      }
     },
     "640f2999d9d14a819199fb6451518e84": {
      "model_module": "@jupyter-widgets/base",
      "model_module_version": "1.2.0",
      "model_name": "LayoutModel",
      "state": {}
     },
     "6447c315c53e4742b73a44e1a3f2d794": {
      "model_module": "@jupyter-widgets/controls",
      "model_module_version": "1.5.0",
      "model_name": "VBoxModel",
      "state": {
       "_dom_classes": [
        "widget-interact"
       ],
       "children": [
        "IPY_MODEL_0a0c8585e63d42a0b21b9e4ef42b605b",
        "IPY_MODEL_e5e80e21e5a848d2b4ea3e2757a2d26d",
        "IPY_MODEL_e4ce41ef4e784b99871f8a74ec321b8e",
        "IPY_MODEL_c48eef86228840ad8b146994a300ac8e",
        "IPY_MODEL_78d6edb1688b46e6ab34ff1749a48ad1",
        "IPY_MODEL_7f0b2a9920ad4f93a5802e0a9986c7af"
       ],
       "layout": "IPY_MODEL_f13899cf7dd04a14b1d94a4f5200f22e"
      }
     },
     "68d1584eee2f40bebb0605644eeb939d": {
      "model_module": "jupyter-matplotlib",
      "model_module_version": "^0.9.0",
      "model_name": "ToolbarModel",
      "state": {
       "layout": "IPY_MODEL_9174432d03fe429ca93197047fec1a89",
       "toolitems": [
        [
         "Home",
         "Reset original view",
         "home",
         "home"
        ],
        [
         "Back",
         "Back to previous view",
         "arrow-left",
         "back"
        ],
        [
         "Forward",
         "Forward to next view",
         "arrow-right",
         "forward"
        ],
        [
         "Pan",
         "Pan axes with left mouse, zoom with right",
         "arrows",
         "pan"
        ],
        [
         "Zoom",
         "Zoom to rectangle",
         "square-o",
         "zoom"
        ],
        [
         "Download",
         "Download plot",
         "floppy-o",
         "save_figure"
        ]
       ]
      }
     },
     "696b2fc6c323442e8586d05762abb512": {
      "model_module": "@jupyter-widgets/base",
      "model_module_version": "1.2.0",
      "model_name": "LayoutModel",
      "state": {}
     },
     "69c73bb7a0874ce385e1dcead2cced45": {
      "model_module": "@jupyter-widgets/base",
      "model_module_version": "1.2.0",
      "model_name": "LayoutModel",
      "state": {}
     },
     "69e659dd36234a2893227495f5d41c4d": {
      "model_module": "@jupyter-widgets/base",
      "model_module_version": "1.2.0",
      "model_name": "LayoutModel",
      "state": {}
     },
     "69ed0ca387464fe58abd545df1675f66": {
      "model_module": "@jupyter-widgets/base",
      "model_module_version": "1.2.0",
      "model_name": "LayoutModel",
      "state": {}
     },
     "6a02bded2d404f6da5fc7c971b8b44c7": {
      "model_module": "@jupyter-widgets/base",
      "model_module_version": "1.2.0",
      "model_name": "LayoutModel",
      "state": {}
     },
     "6a37201945394a5aaba14fbc886f659a": {
      "model_module": "jupyter-matplotlib",
      "model_module_version": "^0.9.0",
      "model_name": "ToolbarModel",
      "state": {
       "layout": "IPY_MODEL_aa8acff8b99449d8b74fffebfa0e2a25",
       "toolitems": [
        [
         "Home",
         "Reset original view",
         "home",
         "home"
        ],
        [
         "Back",
         "Back to previous view",
         "arrow-left",
         "back"
        ],
        [
         "Forward",
         "Forward to next view",
         "arrow-right",
         "forward"
        ],
        [
         "Pan",
         "Pan axes with left mouse, zoom with right",
         "arrows",
         "pan"
        ],
        [
         "Zoom",
         "Zoom to rectangle",
         "square-o",
         "zoom"
        ],
        [
         "Download",
         "Download plot",
         "floppy-o",
         "save_figure"
        ]
       ]
      }
     },
     "6b0e5bd2017f4161b0140077e3654076": {
      "model_module": "@jupyter-widgets/controls",
      "model_module_version": "1.5.0",
      "model_name": "FloatSliderModel",
      "state": {
       "description": "h",
       "layout": "IPY_MODEL_5162cecc6cc84b72b9818286df23cb6b",
       "max": 1,
       "min": -1,
       "step": 0.1,
       "style": "IPY_MODEL_39c6208b47fc4e5f87af6467794e2663"
      }
     },
     "6bd90e83dd184907b49dacdb1c1808b8": {
      "model_module": "@jupyter-widgets/base",
      "model_module_version": "1.2.0",
      "model_name": "LayoutModel",
      "state": {}
     },
     "6be1d816ad9941b197b902700d6051aa": {
      "model_module": "@jupyter-widgets/output",
      "model_module_version": "1.0.0",
      "model_name": "OutputModel",
      "state": {
       "layout": "IPY_MODEL_b56015da3688403286990458d7deb2c4",
       "outputs": [
        {
         "data": {
          "application/vnd.jupyter.widget-view+json": {
           "model_id": "",
           "version_major": 2,
           "version_minor": 0
          },
          "text/plain": "Canvas(toolbar=Toolbar(toolitems=[('Home', 'Reset original view', 'home', 'home'), ('Back', 'Back to previous …"
         },
         "metadata": {},
         "output_type": "display_data"
        }
       ]
      }
     },
     "6bf6ffc805fb4777a98ecdc7e291757a": {
      "model_module": "@jupyter-widgets/base",
      "model_module_version": "1.2.0",
      "model_name": "LayoutModel",
      "state": {}
     },
     "6cd35dccd48c4ed286c2a9fd7342d21c": {
      "model_module": "@jupyter-widgets/base",
      "model_module_version": "1.2.0",
      "model_name": "LayoutModel",
      "state": {}
     },
     "6d141888c6fc42f9812d564d9bd3a506": {
      "model_module": "@jupyter-widgets/base",
      "model_module_version": "1.2.0",
      "model_name": "LayoutModel",
      "state": {}
     },
     "6d664b7aa8f64c46a652741420b16489": {
      "model_module": "@jupyter-widgets/controls",
      "model_module_version": "1.5.0",
      "model_name": "SliderStyleModel",
      "state": {
       "description_width": ""
      }
     },
     "6e7e73df43d142708c22d122b9d1b5d0": {
      "model_module": "@jupyter-widgets/base",
      "model_module_version": "1.2.0",
      "model_name": "LayoutModel",
      "state": {}
     },
     "6eeae29d920d4b2a86608a13011537c7": {
      "model_module": "@jupyter-widgets/base",
      "model_module_version": "1.2.0",
      "model_name": "LayoutModel",
      "state": {}
     },
     "701e9df700844d7a9d71af76bdafcf86": {
      "model_module": "@jupyter-widgets/controls",
      "model_module_version": "1.5.0",
      "model_name": "SliderStyleModel",
      "state": {
       "description_width": ""
      }
     },
     "723b2e9d88614f3c8e96cd376924e9b5": {
      "model_module": "@jupyter-widgets/controls",
      "model_module_version": "1.5.0",
      "model_name": "FloatSliderModel",
      "state": {
       "description": "c",
       "layout": "IPY_MODEL_8d0f92b5fe8c4e8ba29e053059b96794",
       "max": 1,
       "min": 0.05,
       "step": 0.1,
       "style": "IPY_MODEL_b988142ee7954817ba13b1cc34448a2d",
       "value": 0.45
      }
     },
     "72d52f3adbff4f41a0f8e388f4eb0620": {
      "model_module": "@jupyter-widgets/controls",
      "model_module_version": "1.5.0",
      "model_name": "SliderStyleModel",
      "state": {
       "description_width": ""
      }
     },
     "7325a5ec81db4b9faaf29138f35557f5": {
      "model_module": "@jupyter-widgets/output",
      "model_module_version": "1.0.0",
      "model_name": "OutputModel",
      "state": {
       "layout": "IPY_MODEL_8d3d4590e4c84fda81a9b40282b3e660",
       "outputs": [
        {
         "data": {
          "application/vnd.jupyter.widget-view+json": {
           "model_id": "",
           "version_major": 2,
           "version_minor": 0
          },
          "text/plain": "Canvas(toolbar=Toolbar(toolitems=[('Home', 'Reset original view', 'home', 'home'), ('Back', 'Back to previous …"
         },
         "metadata": {},
         "output_type": "display_data"
        }
       ]
      }
     },
     "732e42e53b72470d8a57ea6bcb2da8fd": {
      "model_module": "jupyter-matplotlib",
      "model_module_version": "^0.9.0",
      "model_name": "ToolbarModel",
      "state": {
       "layout": "IPY_MODEL_4980aad8f3a74abbb25793ae7df2cc18",
       "toolitems": [
        [
         "Home",
         "Reset original view",
         "home",
         "home"
        ],
        [
         "Back",
         "Back to previous view",
         "arrow-left",
         "back"
        ],
        [
         "Forward",
         "Forward to next view",
         "arrow-right",
         "forward"
        ],
        [
         "Pan",
         "Pan axes with left mouse, zoom with right",
         "arrows",
         "pan"
        ],
        [
         "Zoom",
         "Zoom to rectangle",
         "square-o",
         "zoom"
        ],
        [
         "Download",
         "Download plot",
         "floppy-o",
         "save_figure"
        ]
       ]
      }
     },
     "7680c0968b5a411bb9a7b1f13bef8304": {
      "model_module": "@jupyter-widgets/base",
      "model_module_version": "1.2.0",
      "model_name": "LayoutModel",
      "state": {}
     },
     "76ac7dd3b28a4ac0a939591b89c8b089": {
      "model_module": "@jupyter-widgets/base",
      "model_module_version": "1.2.0",
      "model_name": "LayoutModel",
      "state": {}
     },
     "78acfb520e3d4c979004412b6d4cb492": {
      "model_module": "@jupyter-widgets/controls",
      "model_module_version": "1.5.0",
      "model_name": "SliderStyleModel",
      "state": {
       "description_width": ""
      }
     },
     "78d6edb1688b46e6ab34ff1749a48ad1": {
      "model_module": "@jupyter-widgets/controls",
      "model_module_version": "1.5.0",
      "model_name": "FloatSliderModel",
      "state": {
       "description": "T",
       "layout": "IPY_MODEL_a4e2320800db40aa9b3770534a67475f",
       "max": 3,
       "step": 0.1,
       "style": "IPY_MODEL_313f2eb8f74c466fb0c8b6d6cacf4d8a",
       "value": 1.5
      }
     },
     "792d40a5b6f844beb46615c2bd8dd4a7": {
      "model_module": "jupyter-matplotlib",
      "model_module_version": "^0.9.0",
      "model_name": "ToolbarModel",
      "state": {
       "layout": "IPY_MODEL_7f6c36cb78b448c18df603451010f50a",
       "toolitems": [
        [
         "Home",
         "Reset original view",
         "home",
         "home"
        ],
        [
         "Back",
         "Back to previous view",
         "arrow-left",
         "back"
        ],
        [
         "Forward",
         "Forward to next view",
         "arrow-right",
         "forward"
        ],
        [
         "Pan",
         "Pan axes with left mouse, zoom with right",
         "arrows",
         "pan"
        ],
        [
         "Zoom",
         "Zoom to rectangle",
         "square-o",
         "zoom"
        ],
        [
         "Download",
         "Download plot",
         "floppy-o",
         "save_figure"
        ]
       ]
      }
     },
     "794ec263205243539893e0a8b8aa0f14": {
      "model_module": "@jupyter-widgets/base",
      "model_module_version": "1.2.0",
      "model_name": "LayoutModel",
      "state": {}
     },
     "7a666addfee942abaf314d82f8a43c43": {
      "model_module": "@jupyter-widgets/controls",
      "model_module_version": "1.5.0",
      "model_name": "SliderStyleModel",
      "state": {
       "description_width": ""
      }
     },
     "7d4e5b9696754ad098a130387dfd9cfc": {
      "model_module": "@jupyter-widgets/base",
      "model_module_version": "1.2.0",
      "model_name": "LayoutModel",
      "state": {}
     },
     "7e1169eae1ca47d08fe41a8425f3723f": {
      "model_module": "@jupyter-widgets/base",
      "model_module_version": "1.2.0",
      "model_name": "LayoutModel",
      "state": {}
     },
     "7e670e066c3347e98fe281de8cf983c4": {
      "model_module": "@jupyter-widgets/controls",
      "model_module_version": "1.5.0",
      "model_name": "SliderStyleModel",
      "state": {
       "description_width": ""
      }
     },
     "7f0b2a9920ad4f93a5802e0a9986c7af": {
      "model_module": "@jupyter-widgets/output",
      "model_module_version": "1.0.0",
      "model_name": "OutputModel",
      "state": {
       "layout": "IPY_MODEL_a740368dc7364d93bbe57c4077b18844",
       "outputs": [
        {
         "data": {
          "application/vnd.jupyter.widget-view+json": {
           "model_id": "",
           "version_major": 2,
           "version_minor": 0
          },
          "text/plain": "Canvas(toolbar=Toolbar(toolitems=[('Home', 'Reset original view', 'home', 'home'), ('Back', 'Back to previous …"
         },
         "metadata": {},
         "output_type": "display_data"
        }
       ]
      }
     },
     "7f6c36cb78b448c18df603451010f50a": {
      "model_module": "@jupyter-widgets/base",
      "model_module_version": "1.2.0",
      "model_name": "LayoutModel",
      "state": {}
     },
     "8078937e6a074a40b52f464e893e7464": {
      "model_module": "@jupyter-widgets/base",
      "model_module_version": "1.2.0",
      "model_name": "LayoutModel",
      "state": {}
     },
     "80b554053057492c85591be2acc9f7e6": {
      "model_module": "@jupyter-widgets/controls",
      "model_module_version": "1.5.0",
      "model_name": "SliderStyleModel",
      "state": {
       "description_width": ""
      }
     },
     "8168104f047349819b96ab5d445a20aa": {
      "model_module": "@jupyter-widgets/controls",
      "model_module_version": "1.5.0",
      "model_name": "FloatSliderModel",
      "state": {
       "description": "b",
       "layout": "IPY_MODEL_b4a2dbaa01504b6481cc8a8e931c1afe",
       "max": 0,
       "min": -3,
       "step": 0.1,
       "style": "IPY_MODEL_95dcd04426274a3a9f46627e25ca2431",
       "value": -1.5
      }
     },
     "81ddf2f0df274ae3b9e1ef0ca684aefd": {
      "model_module": "@jupyter-widgets/controls",
      "model_module_version": "1.5.0",
      "model_name": "FloatSliderModel",
      "state": {
       "description": "a",
       "layout": "IPY_MODEL_ce8e1e182ece4a53b51cc02f3c09e7d0",
       "max": 2,
       "step": 0.1,
       "style": "IPY_MODEL_f38d37eee00f452cb13250561fb1ad41",
       "value": 1
      }
     },
     "82a648a9bb1c45ce8d98009fb0557190": {
      "model_module": "@jupyter-widgets/base",
      "model_module_version": "1.2.0",
      "model_name": "LayoutModel",
      "state": {}
     },
     "82ad1ec235c845d982e5ec864ccc8242": {
      "model_module": "@jupyter-widgets/base",
      "model_module_version": "1.2.0",
      "model_name": "LayoutModel",
      "state": {}
     },
     "83377b1f6730476f9e4df95baad084a7": {
      "model_module": "@jupyter-widgets/base",
      "model_module_version": "1.2.0",
      "model_name": "LayoutModel",
      "state": {}
     },
     "840821808bb84cb88f64840cd8b0d2ab": {
      "model_module": "@jupyter-widgets/controls",
      "model_module_version": "1.5.0",
      "model_name": "FloatSliderModel",
      "state": {
       "description": "b",
       "layout": "IPY_MODEL_159ae9b57a73442790f0334aa4150c8e",
       "max": 0,
       "min": -3,
       "step": 0.1,
       "style": "IPY_MODEL_9095bdc41830453cbe43f3dd6648bc37",
       "value": -1.5
      }
     },
     "8496720e76d74762bc1d002ab478ea2a": {
      "model_module": "@jupyter-widgets/controls",
      "model_module_version": "1.5.0",
      "model_name": "FloatSliderModel",
      "state": {
       "description": "T",
       "layout": "IPY_MODEL_82a648a9bb1c45ce8d98009fb0557190",
       "max": 3,
       "step": 0.1,
       "style": "IPY_MODEL_72d52f3adbff4f41a0f8e388f4eb0620",
       "value": 1.5
      }
     },
     "84bcf4eb299740f29af8cbfc21280dff": {
      "model_module": "@jupyter-widgets/controls",
      "model_module_version": "1.5.0",
      "model_name": "FloatSliderModel",
      "state": {
       "description": "h",
       "layout": "IPY_MODEL_e6925694069b49789f9498413487805c",
       "max": 1,
       "min": -1,
       "step": 0.1,
       "style": "IPY_MODEL_c86d90cd7362497c9c2a4f9d4c7a2a00"
      }
     },
     "856ba5c3d99a4a48af023c44823cfa7c": {
      "model_module": "jupyter-matplotlib",
      "model_module_version": "^0.9.0",
      "model_name": "ToolbarModel",
      "state": {
       "layout": "IPY_MODEL_9cbf305c662e4ada88cdf60392b5435a",
       "toolitems": [
        [
         "Home",
         "Reset original view",
         "home",
         "home"
        ],
        [
         "Back",
         "Back to previous view",
         "arrow-left",
         "back"
        ],
        [
         "Forward",
         "Forward to next view",
         "arrow-right",
         "forward"
        ],
        [
         "Pan",
         "Pan axes with left mouse, zoom with right",
         "arrows",
         "pan"
        ],
        [
         "Zoom",
         "Zoom to rectangle",
         "square-o",
         "zoom"
        ],
        [
         "Download",
         "Download plot",
         "floppy-o",
         "save_figure"
        ]
       ]
      }
     },
     "86260d887fa349f691d3c359472d3ffc": {
      "model_module": "@jupyter-widgets/controls",
      "model_module_version": "1.5.0",
      "model_name": "FloatSliderModel",
      "state": {
       "description": "c",
       "layout": "IPY_MODEL_5f7b35725b4a4a4bb6d12e995c27eec3",
       "max": 1,
       "min": 0.05,
       "step": 0.1,
       "style": "IPY_MODEL_24474af9b5dd4e66a57ecf4f4cf5f40f",
       "value": 0.45
      }
     },
     "8987db28486147f38a68f7db75fe4fca": {
      "model_module": "@jupyter-widgets/output",
      "model_module_version": "1.0.0",
      "model_name": "OutputModel",
      "state": {
       "layout": "IPY_MODEL_bdb745b3977e4a31ae2f8897bd8b7793",
       "outputs": [
        {
         "data": {
          "application/vnd.jupyter.widget-view+json": {
           "model_id": "",
           "version_major": 2,
           "version_minor": 0
          },
          "text/plain": "Canvas(toolbar=Toolbar(toolitems=[('Home', 'Reset original view', 'home', 'home'), ('Back', 'Back to previous …"
         },
         "metadata": {},
         "output_type": "display_data"
        }
       ]
      }
     },
     "89c871f89ade4e30a205de37082749db": {
      "model_module": "@jupyter-widgets/controls",
      "model_module_version": "1.5.0",
      "model_name": "FloatSliderModel",
      "state": {
       "description": "a",
       "layout": "IPY_MODEL_fb0388d56077409f978528b552b5f5eb",
       "max": 2,
       "step": 0.1,
       "style": "IPY_MODEL_2de16847973c4b2087d0a134d6d38686",
       "value": 1
      }
     },
     "8a4f5c049f194c3db004723593369cfc": {
      "model_module": "@jupyter-widgets/controls",
      "model_module_version": "1.5.0",
      "model_name": "VBoxModel",
      "state": {
       "_dom_classes": [
        "widget-interact"
       ],
       "children": [
        "IPY_MODEL_25f0437ff3d74af3b07b92c3b03b5b7d",
        "IPY_MODEL_00aab0697c71427ea90d6adf9b8d2b34",
        "IPY_MODEL_02aaff0749974853be00785911b53715",
        "IPY_MODEL_6b0e5bd2017f4161b0140077e3654076",
        "IPY_MODEL_8fc3b2bfa8b946fb9183d0590e2f3f86",
        "IPY_MODEL_ee3c88a8b1e04c9c86a10142c8d03c80"
       ],
       "layout": "IPY_MODEL_c49d5e1635ad41e88d8ee648558e3e13"
      }
     },
     "8b91d818b53c45b5b8d38ba3c825ccdf": {
      "model_module": "@jupyter-widgets/controls",
      "model_module_version": "1.5.0",
      "model_name": "FloatSliderModel",
      "state": {
       "description": "T",
       "layout": "IPY_MODEL_1dd97e0717af491b964d782cba87501c",
       "max": 3,
       "step": 0.1,
       "style": "IPY_MODEL_f7b6b67e604b4713b8f2cfe45c6f64c8",
       "value": 1.5
      }
     },
     "8d0f92b5fe8c4e8ba29e053059b96794": {
      "model_module": "@jupyter-widgets/base",
      "model_module_version": "1.2.0",
      "model_name": "LayoutModel",
      "state": {}
     },
     "8d292fb3672a469f940b9fddcb8c6e5f": {
      "model_module": "@jupyter-widgets/base",
      "model_module_version": "1.2.0",
      "model_name": "LayoutModel",
      "state": {}
     },
     "8d3d4590e4c84fda81a9b40282b3e660": {
      "model_module": "@jupyter-widgets/base",
      "model_module_version": "1.2.0",
      "model_name": "LayoutModel",
      "state": {
       "height": "400px"
      }
     },
     "8e6f600c99d7421aa0413b98d71e7559": {
      "model_module": "@jupyter-widgets/controls",
      "model_module_version": "1.5.0",
      "model_name": "FloatSliderModel",
      "state": {
       "description": "b",
       "layout": "IPY_MODEL_8d292fb3672a469f940b9fddcb8c6e5f",
       "max": 0,
       "min": -3,
       "step": 0.1,
       "style": "IPY_MODEL_5ce7d216c098447db1537d387cc69e6f",
       "value": -1.5
      }
     },
     "8fb3188faa054cbbb5c401b69dfb3743": {
      "model_module": "jupyter-matplotlib",
      "model_module_version": "^0.9.0",
      "model_name": "ToolbarModel",
      "state": {
       "layout": "IPY_MODEL_d4c82c1ddaf54967b488f15226d2d864",
       "toolitems": [
        [
         "Home",
         "Reset original view",
         "home",
         "home"
        ],
        [
         "Back",
         "Back to previous view",
         "arrow-left",
         "back"
        ],
        [
         "Forward",
         "Forward to next view",
         "arrow-right",
         "forward"
        ],
        [
         "Pan",
         "Pan axes with left mouse, zoom with right",
         "arrows",
         "pan"
        ],
        [
         "Zoom",
         "Zoom to rectangle",
         "square-o",
         "zoom"
        ],
        [
         "Download",
         "Download plot",
         "floppy-o",
         "save_figure"
        ]
       ]
      }
     },
     "8fc3b2bfa8b946fb9183d0590e2f3f86": {
      "model_module": "@jupyter-widgets/controls",
      "model_module_version": "1.5.0",
      "model_name": "FloatSliderModel",
      "state": {
       "description": "T",
       "layout": "IPY_MODEL_bf154a9c52734c4d92566617552e66ff",
       "max": 3,
       "step": 0.1,
       "style": "IPY_MODEL_fe13575d179e4dbca9cf4927a0929753",
       "value": 1.5
      }
     },
     "90414d46fa544ffeb5c1689ebab33405": {
      "model_module": "jupyter-matplotlib",
      "model_module_version": "^0.9.0",
      "model_name": "ToolbarModel",
      "state": {
       "layout": "IPY_MODEL_03a25b3992a442f2a9c991c5c25d4917",
       "toolitems": [
        [
         "Home",
         "Reset original view",
         "home",
         "home"
        ],
        [
         "Back",
         "Back to previous view",
         "arrow-left",
         "back"
        ],
        [
         "Forward",
         "Forward to next view",
         "arrow-right",
         "forward"
        ],
        [
         "Pan",
         "Pan axes with left mouse, zoom with right",
         "arrows",
         "pan"
        ],
        [
         "Zoom",
         "Zoom to rectangle",
         "square-o",
         "zoom"
        ],
        [
         "Download",
         "Download plot",
         "floppy-o",
         "save_figure"
        ]
       ]
      }
     },
     "906027e0cd08460dbdd9ed02f4d0cc1c": {
      "model_module": "@jupyter-widgets/base",
      "model_module_version": "1.2.0",
      "model_name": "LayoutModel",
      "state": {}
     },
     "9095bdc41830453cbe43f3dd6648bc37": {
      "model_module": "@jupyter-widgets/controls",
      "model_module_version": "1.5.0",
      "model_name": "SliderStyleModel",
      "state": {
       "description_width": ""
      }
     },
     "90caf7bcc6c94104a344cbe29612fb91": {
      "model_module": "@jupyter-widgets/base",
      "model_module_version": "1.2.0",
      "model_name": "LayoutModel",
      "state": {}
     },
     "913bb339d5d34d45b9c4a6d26a753719": {
      "model_module": "@jupyter-widgets/base",
      "model_module_version": "1.2.0",
      "model_name": "LayoutModel",
      "state": {}
     },
     "916bf72565f2422e806da4a9b1a5e7f8": {
      "model_module": "@jupyter-widgets/base",
      "model_module_version": "1.2.0",
      "model_name": "LayoutModel",
      "state": {}
     },
     "9174432d03fe429ca93197047fec1a89": {
      "model_module": "@jupyter-widgets/base",
      "model_module_version": "1.2.0",
      "model_name": "LayoutModel",
      "state": {}
     },
     "9275b8a244614a47b6dbd0c4b2bd3004": {
      "model_module": "@jupyter-widgets/controls",
      "model_module_version": "1.5.0",
      "model_name": "SliderStyleModel",
      "state": {
       "description_width": ""
      }
     },
     "9347cd2f05754c1aa959bdb19760a5e7": {
      "model_module": "@jupyter-widgets/controls",
      "model_module_version": "1.5.0",
      "model_name": "FloatSliderModel",
      "state": {
       "description": "h",
       "layout": "IPY_MODEL_f1898caa7ade4b9eaf61095db29f4ef6",
       "max": 1,
       "min": -1,
       "step": 0.1,
       "style": "IPY_MODEL_117e9bfb1fa64c6fabaea1d8b115464c"
      }
     },
     "950f158d4d2c4314a0fd656ac8034ab0": {
      "model_module": "@jupyter-widgets/controls",
      "model_module_version": "1.5.0",
      "model_name": "SliderStyleModel",
      "state": {
       "description_width": ""
      }
     },
     "95dcd04426274a3a9f46627e25ca2431": {
      "model_module": "@jupyter-widgets/controls",
      "model_module_version": "1.5.0",
      "model_name": "SliderStyleModel",
      "state": {
       "description_width": ""
      }
     },
     "978be1b526cd4c5b99813034ee6df7ce": {
      "model_module": "@jupyter-widgets/base",
      "model_module_version": "1.2.0",
      "model_name": "LayoutModel",
      "state": {}
     },
     "97aa2da776eb4408ba30add666c34246": {
      "model_module": "@jupyter-widgets/base",
      "model_module_version": "1.2.0",
      "model_name": "LayoutModel",
      "state": {}
     },
     "98c9f17c0fb941feba118877d7aaab84": {
      "model_module": "@jupyter-widgets/controls",
      "model_module_version": "1.5.0",
      "model_name": "SliderStyleModel",
      "state": {
       "description_width": ""
      }
     },
     "9ab0038ecf8e478a96c1e6b18b474517": {
      "model_module": "@jupyter-widgets/controls",
      "model_module_version": "1.5.0",
      "model_name": "SliderStyleModel",
      "state": {
       "description_width": ""
      }
     },
     "9b7d215b88fa41ccb925db5f307484aa": {
      "model_module": "@jupyter-widgets/controls",
      "model_module_version": "1.5.0",
      "model_name": "VBoxModel",
      "state": {
       "_dom_classes": [
        "widget-interact"
       ],
       "children": [
        "IPY_MODEL_bcf8bc4007264302a5cc434293ce9126",
        "IPY_MODEL_b0f35d8548e941e9901458e478aa103d",
        "IPY_MODEL_86260d887fa349f691d3c359472d3ffc",
        "IPY_MODEL_12e136e89be34b089e31ea84871249b5",
        "IPY_MODEL_ed9ac0e39f0d41f9878078f92b02f587",
        "IPY_MODEL_7325a5ec81db4b9faaf29138f35557f5"
       ],
       "layout": "IPY_MODEL_7e1169eae1ca47d08fe41a8425f3723f"
      }
     },
     "9cbf305c662e4ada88cdf60392b5435a": {
      "model_module": "@jupyter-widgets/base",
      "model_module_version": "1.2.0",
      "model_name": "LayoutModel",
      "state": {}
     },
     "9dcba4093a1f48baa93bbf6316a28377": {
      "model_module": "jupyter-matplotlib",
      "model_module_version": "^0.9.0",
      "model_name": "ToolbarModel",
      "state": {
       "layout": "IPY_MODEL_a71686e780774020b0bd3e28136a19fe",
       "toolitems": [
        [
         "Home",
         "Reset original view",
         "home",
         "home"
        ],
        [
         "Back",
         "Back to previous view",
         "arrow-left",
         "back"
        ],
        [
         "Forward",
         "Forward to next view",
         "arrow-right",
         "forward"
        ],
        [
         "Pan",
         "Pan axes with left mouse, zoom with right",
         "arrows",
         "pan"
        ],
        [
         "Zoom",
         "Zoom to rectangle",
         "square-o",
         "zoom"
        ],
        [
         "Download",
         "Download plot",
         "floppy-o",
         "save_figure"
        ]
       ]
      }
     },
     "9f757dc260ce4b14847dc7f6754e4fb9": {
      "model_module": "@jupyter-widgets/controls",
      "model_module_version": "1.5.0",
      "model_name": "SliderStyleModel",
      "state": {
       "description_width": ""
      }
     },
     "9fdee2270794490e9ec737df8be49c8a": {
      "model_module": "@jupyter-widgets/controls",
      "model_module_version": "1.5.0",
      "model_name": "FloatSliderModel",
      "state": {
       "description": "c",
       "layout": "IPY_MODEL_33057def50b74399a02b999d645a8bef",
       "max": 1,
       "min": 0.05,
       "step": 0.1,
       "style": "IPY_MODEL_80b554053057492c85591be2acc9f7e6",
       "value": 0.45
      }
     },
     "a02776cb575548358779ba5a7ceb7a3a": {
      "model_module": "@jupyter-widgets/controls",
      "model_module_version": "1.5.0",
      "model_name": "FloatSliderModel",
      "state": {
       "description": "b",
       "layout": "IPY_MODEL_b4026533acef406d8cc5e5fd198c372c",
       "max": 0,
       "min": -3,
       "step": 0.1,
       "style": "IPY_MODEL_f9f9930f642f4000b0c27f51720f9bb2",
       "value": -1.6
      }
     },
     "a0bc90d4a1c3458fb37e075e8385879e": {
      "model_module": "@jupyter-widgets/base",
      "model_module_version": "1.2.0",
      "model_name": "LayoutModel",
      "state": {}
     },
     "a1028762192245499d75e4394d35610e": {
      "model_module": "jupyter-matplotlib",
      "model_module_version": "^0.9.0",
      "model_name": "ToolbarModel",
      "state": {
       "layout": "IPY_MODEL_e509a46c56ec44f6a977e1603227aa05",
       "toolitems": [
        [
         "Home",
         "Reset original view",
         "home",
         "home"
        ],
        [
         "Back",
         "Back to previous view",
         "arrow-left",
         "back"
        ],
        [
         "Forward",
         "Forward to next view",
         "arrow-right",
         "forward"
        ],
        [
         "Pan",
         "Pan axes with left mouse, zoom with right",
         "arrows",
         "pan"
        ],
        [
         "Zoom",
         "Zoom to rectangle",
         "square-o",
         "zoom"
        ],
        [
         "Download",
         "Download plot",
         "floppy-o",
         "save_figure"
        ]
       ]
      }
     },
     "a2b471dd64134f639d6c8eb0e36c9baa": {
      "model_module": "@jupyter-widgets/base",
      "model_module_version": "1.2.0",
      "model_name": "LayoutModel",
      "state": {}
     },
     "a2c1a11bdb3a4dc39ba7c5a9e17c7239": {
      "model_module": "jupyter-matplotlib",
      "model_module_version": "^0.9.0",
      "model_name": "ToolbarModel",
      "state": {
       "layout": "IPY_MODEL_f23d9f5513b94f81815db0007ed1e75c",
       "toolitems": [
        [
         "Home",
         "Reset original view",
         "home",
         "home"
        ],
        [
         "Back",
         "Back to previous view",
         "arrow-left",
         "back"
        ],
        [
         "Forward",
         "Forward to next view",
         "arrow-right",
         "forward"
        ],
        [
         "Pan",
         "Pan axes with left mouse, zoom with right",
         "arrows",
         "pan"
        ],
        [
         "Zoom",
         "Zoom to rectangle",
         "square-o",
         "zoom"
        ],
        [
         "Download",
         "Download plot",
         "floppy-o",
         "save_figure"
        ]
       ]
      }
     },
     "a31262e083944affb8a214d8881a63c4": {
      "model_module": "@jupyter-widgets/base",
      "model_module_version": "1.2.0",
      "model_name": "LayoutModel",
      "state": {}
     },
     "a3f6750d3da947e386c6602738f853cf": {
      "model_module": "@jupyter-widgets/controls",
      "model_module_version": "1.5.0",
      "model_name": "SliderStyleModel",
      "state": {
       "description_width": ""
      }
     },
     "a4a5f3955eca458fb667794feb6ab837": {
      "model_module": "jupyter-matplotlib",
      "model_module_version": "^0.9.0",
      "model_name": "ToolbarModel",
      "state": {
       "layout": "IPY_MODEL_916bf72565f2422e806da4a9b1a5e7f8",
       "toolitems": [
        [
         "Home",
         "Reset original view",
         "home",
         "home"
        ],
        [
         "Back",
         "Back to previous view",
         "arrow-left",
         "back"
        ],
        [
         "Forward",
         "Forward to next view",
         "arrow-right",
         "forward"
        ],
        [
         "Pan",
         "Pan axes with left mouse, zoom with right",
         "arrows",
         "pan"
        ],
        [
         "Zoom",
         "Zoom to rectangle",
         "square-o",
         "zoom"
        ],
        [
         "Download",
         "Download plot",
         "floppy-o",
         "save_figure"
        ]
       ]
      }
     },
     "a4e2320800db40aa9b3770534a67475f": {
      "model_module": "@jupyter-widgets/base",
      "model_module_version": "1.2.0",
      "model_name": "LayoutModel",
      "state": {}
     },
     "a4f3a057dc3743a0bf47aed46fa6db81": {
      "model_module": "@jupyter-widgets/base",
      "model_module_version": "1.2.0",
      "model_name": "LayoutModel",
      "state": {}
     },
     "a6f879a256744294beed0b41f9a201d8": {
      "model_module": "@jupyter-widgets/controls",
      "model_module_version": "1.5.0",
      "model_name": "SliderStyleModel",
      "state": {
       "description_width": ""
      }
     },
     "a71686e780774020b0bd3e28136a19fe": {
      "model_module": "@jupyter-widgets/base",
      "model_module_version": "1.2.0",
      "model_name": "LayoutModel",
      "state": {}
     },
     "a740368dc7364d93bbe57c4077b18844": {
      "model_module": "@jupyter-widgets/base",
      "model_module_version": "1.2.0",
      "model_name": "LayoutModel",
      "state": {
       "height": "400px"
      }
     },
     "a8a0b74aff2a42048088c4b40b48314c": {
      "model_module": "@jupyter-widgets/base",
      "model_module_version": "1.2.0",
      "model_name": "LayoutModel",
      "state": {}
     },
     "a8fd94c20f1543898965b3b9f8479213": {
      "model_module": "@jupyter-widgets/base",
      "model_module_version": "1.2.0",
      "model_name": "LayoutModel",
      "state": {}
     },
     "a9c3f5f71d4c4852bbfae15554107ceb": {
      "model_module": "@jupyter-widgets/controls",
      "model_module_version": "1.5.0",
      "model_name": "FloatSliderModel",
      "state": {
       "description": "h",
       "layout": "IPY_MODEL_978be1b526cd4c5b99813034ee6df7ce",
       "max": 1,
       "min": -1,
       "step": 0.1,
       "style": "IPY_MODEL_950f158d4d2c4314a0fd656ac8034ab0"
      }
     },
     "aa86d4fb508845a984d686ec4425ff58": {
      "model_module": "@jupyter-widgets/base",
      "model_module_version": "1.2.0",
      "model_name": "LayoutModel",
      "state": {}
     },
     "aa8acff8b99449d8b74fffebfa0e2a25": {
      "model_module": "@jupyter-widgets/base",
      "model_module_version": "1.2.0",
      "model_name": "LayoutModel",
      "state": {}
     },
     "ac800519bb2d485a8429863fd4ae799b": {
      "model_module": "@jupyter-widgets/controls",
      "model_module_version": "1.5.0",
      "model_name": "FloatSliderModel",
      "state": {
       "description": "c",
       "layout": "IPY_MODEL_0140f8da32df4f0499a52dc1da118f52",
       "max": 1,
       "min": 0.05,
       "step": 0.1,
       "style": "IPY_MODEL_cf51c23072a64e1d844140ca4390abf1",
       "value": 0.05
      }
     },
     "ad78a6090e94422485a76d67f5f16955": {
      "model_module": "@jupyter-widgets/base",
      "model_module_version": "1.2.0",
      "model_name": "LayoutModel",
      "state": {}
     },
     "b057e254bb51453eb89ae19802b3e9ec": {
      "model_module": "@jupyter-widgets/base",
      "model_module_version": "1.2.0",
      "model_name": "LayoutModel",
      "state": {}
     },
     "b0f35d8548e941e9901458e478aa103d": {
      "model_module": "@jupyter-widgets/controls",
      "model_module_version": "1.5.0",
      "model_name": "FloatSliderModel",
      "state": {
       "description": "b",
       "layout": "IPY_MODEL_38916abecbef48f096baf7a898dc1720",
       "max": 0,
       "min": -3,
       "step": 0.1,
       "style": "IPY_MODEL_629911d8f0504631a9644e927e31f705",
       "value": -1.5
      }
     },
     "b192b86391f64a5dae0e4a9f2003a592": {
      "model_module": "@jupyter-widgets/controls",
      "model_module_version": "1.5.0",
      "model_name": "SliderStyleModel",
      "state": {
       "description_width": ""
      }
     },
     "b270e21982c64815837a0acc10bed207": {
      "model_module": "@jupyter-widgets/base",
      "model_module_version": "1.2.0",
      "model_name": "LayoutModel",
      "state": {}
     },
     "b3966dbaa5d041fe9749f36dd2319032": {
      "model_module": "@jupyter-widgets/output",
      "model_module_version": "1.0.0",
      "model_name": "OutputModel",
      "state": {
       "layout": "IPY_MODEL_5a0e4263c9634c8d96bf75eed8d67e16",
       "outputs": [
        {
         "data": {
          "application/vnd.jupyter.widget-view+json": {
           "model_id": "",
           "version_major": 2,
           "version_minor": 0
          },
          "text/plain": "Canvas(toolbar=Toolbar(toolitems=[('Home', 'Reset original view', 'home', 'home'), ('Back', 'Back to previous …"
         },
         "metadata": {},
         "output_type": "display_data"
        }
       ]
      }
     },
     "b3ff576173cd4fa485a868e820f8c812": {
      "model_module": "@jupyter-widgets/base",
      "model_module_version": "1.2.0",
      "model_name": "LayoutModel",
      "state": {}
     },
     "b4026533acef406d8cc5e5fd198c372c": {
      "model_module": "@jupyter-widgets/base",
      "model_module_version": "1.2.0",
      "model_name": "LayoutModel",
      "state": {}
     },
     "b4a2dbaa01504b6481cc8a8e931c1afe": {
      "model_module": "@jupyter-widgets/base",
      "model_module_version": "1.2.0",
      "model_name": "LayoutModel",
      "state": {}
     },
     "b56015da3688403286990458d7deb2c4": {
      "model_module": "@jupyter-widgets/base",
      "model_module_version": "1.2.0",
      "model_name": "LayoutModel",
      "state": {
       "height": "400px"
      }
     },
     "b8b7d3fe02d24c48a0763ec1e92f2b13": {
      "model_module": "@jupyter-widgets/base",
      "model_module_version": "1.2.0",
      "model_name": "LayoutModel",
      "state": {}
     },
     "b988142ee7954817ba13b1cc34448a2d": {
      "model_module": "@jupyter-widgets/controls",
      "model_module_version": "1.5.0",
      "model_name": "SliderStyleModel",
      "state": {
       "description_width": ""
      }
     },
     "ba09491504754ba3907efb0161024550": {
      "model_module": "@jupyter-widgets/controls",
      "model_module_version": "1.5.0",
      "model_name": "VBoxModel",
      "state": {
       "_dom_classes": [
        "widget-interact"
       ],
       "children": [
        "IPY_MODEL_0f9c8751290c4ae7acf3a0d93c7be229",
        "IPY_MODEL_8168104f047349819b96ab5d445a20aa",
        "IPY_MODEL_2f0bfc44e74142ee9032b6fedabf8a95",
        "IPY_MODEL_0ad38abe89c64e65b18a4b9e304254e5",
        "IPY_MODEL_25301efc594346d3bd53d79618ea9ab6",
        "IPY_MODEL_6be1d816ad9941b197b902700d6051aa"
       ],
       "layout": "IPY_MODEL_b270e21982c64815837a0acc10bed207"
      }
     },
     "bafb1fe072974757a39be4d1f3d0582a": {
      "model_module": "@jupyter-widgets/base",
      "model_module_version": "1.2.0",
      "model_name": "LayoutModel",
      "state": {}
     },
     "bc7dcaf86ca14574b1f3842033d8375b": {
      "model_module": "@jupyter-widgets/controls",
      "model_module_version": "1.5.0",
      "model_name": "SliderStyleModel",
      "state": {
       "description_width": ""
      }
     },
     "bcbc8c5c4b6a4533a51b638c9f12f20d": {
      "model_module": "@jupyter-widgets/base",
      "model_module_version": "1.2.0",
      "model_name": "LayoutModel",
      "state": {}
     },
     "bce193bd9fab49cc9d8994859457d7cd": {
      "model_module": "@jupyter-widgets/base",
      "model_module_version": "1.2.0",
      "model_name": "LayoutModel",
      "state": {}
     },
     "bcf8bc4007264302a5cc434293ce9126": {
      "model_module": "@jupyter-widgets/controls",
      "model_module_version": "1.5.0",
      "model_name": "FloatSliderModel",
      "state": {
       "description": "a",
       "layout": "IPY_MODEL_794ec263205243539893e0a8b8aa0f14",
       "max": 2,
       "step": 0.1,
       "style": "IPY_MODEL_15602fad5369431190a2124bf208cfed",
       "value": 1
      }
     },
     "bdb745b3977e4a31ae2f8897bd8b7793": {
      "model_module": "@jupyter-widgets/base",
      "model_module_version": "1.2.0",
      "model_name": "LayoutModel",
      "state": {}
     },
     "be56f682b3514991b73ff36c76e87cf5": {
      "model_module": "@jupyter-widgets/controls",
      "model_module_version": "1.5.0",
      "model_name": "SliderStyleModel",
      "state": {
       "description_width": ""
      }
     },
     "be9f4bf03b6c4a29a5ec20012d61c91e": {
      "model_module": "@jupyter-widgets/base",
      "model_module_version": "1.2.0",
      "model_name": "LayoutModel",
      "state": {}
     },
     "beab49f5fd364d709e88e4cc44d98e23": {
      "model_module": "jupyter-matplotlib",
      "model_module_version": "^0.9.0",
      "model_name": "ToolbarModel",
      "state": {
       "layout": "IPY_MODEL_30d0bf812f6348b1a51f7333e07eb49f",
       "toolitems": [
        [
         "Home",
         "Reset original view",
         "home",
         "home"
        ],
        [
         "Back",
         "Back to previous view",
         "arrow-left",
         "back"
        ],
        [
         "Forward",
         "Forward to next view",
         "arrow-right",
         "forward"
        ],
        [
         "Pan",
         "Pan axes with left mouse, zoom with right",
         "arrows",
         "pan"
        ],
        [
         "Zoom",
         "Zoom to rectangle",
         "square-o",
         "zoom"
        ],
        [
         "Download",
         "Download plot",
         "floppy-o",
         "save_figure"
        ]
       ]
      }
     },
     "bf154a9c52734c4d92566617552e66ff": {
      "model_module": "@jupyter-widgets/base",
      "model_module_version": "1.2.0",
      "model_name": "LayoutModel",
      "state": {}
     },
     "bfdb7fc3df444d7490174c0c78f25133": {
      "model_module": "@jupyter-widgets/base",
      "model_module_version": "1.2.0",
      "model_name": "LayoutModel",
      "state": {}
     },
     "c028f367622c4ceb8d10af8ba6a8a3b3": {
      "model_module": "@jupyter-widgets/controls",
      "model_module_version": "1.5.0",
      "model_name": "SliderStyleModel",
      "state": {
       "description_width": ""
      }
     },
     "c0b0d96489a54ee28584dbc812ee0ce6": {
      "model_module": "@jupyter-widgets/base",
      "model_module_version": "1.2.0",
      "model_name": "LayoutModel",
      "state": {}
     },
     "c28c595511da4f4b8c815d9b363a92b3": {
      "model_module": "@jupyter-widgets/controls",
      "model_module_version": "1.5.0",
      "model_name": "SliderStyleModel",
      "state": {
       "description_width": ""
      }
     },
     "c3e9dd7e1c214f9d9fef35aa393e7576": {
      "model_module": "@jupyter-widgets/base",
      "model_module_version": "1.2.0",
      "model_name": "LayoutModel",
      "state": {}
     },
     "c48eef86228840ad8b146994a300ac8e": {
      "model_module": "@jupyter-widgets/controls",
      "model_module_version": "1.5.0",
      "model_name": "FloatSliderModel",
      "state": {
       "description": "h",
       "layout": "IPY_MODEL_6a02bded2d404f6da5fc7c971b8b44c7",
       "max": 1,
       "min": -1,
       "step": 0.1,
       "style": "IPY_MODEL_fc1baa87ae5a474fb2a8557b6fc55174"
      }
     },
     "c49d5e1635ad41e88d8ee648558e3e13": {
      "model_module": "@jupyter-widgets/base",
      "model_module_version": "1.2.0",
      "model_name": "LayoutModel",
      "state": {}
     },
     "c685ade4a7ee4cf7a4ac706fbdb95016": {
      "model_module": "@jupyter-widgets/output",
      "model_module_version": "1.0.0",
      "model_name": "OutputModel",
      "state": {
       "layout": "IPY_MODEL_83377b1f6730476f9e4df95baad084a7",
       "outputs": [
        {
         "data": {
          "image/png": "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\n",
          "text/plain": "<Figure size 1800x1200 with 1 Axes>"
         },
         "metadata": {
          "needs_background": "light"
         },
         "output_type": "display_data"
        }
       ]
      }
     },
     "c69a29a9067e4bff937c39d6a417ad1d": {
      "model_module": "@jupyter-widgets/controls",
      "model_module_version": "1.5.0",
      "model_name": "VBoxModel",
      "state": {
       "_dom_classes": [
        "widget-interact"
       ],
       "children": [
        "IPY_MODEL_339237bd921d48e6b66986a9f3e325c2",
        "IPY_MODEL_840821808bb84cb88f64840cd8b0d2ab",
        "IPY_MODEL_d5561be7ac1a4f169a450d956b207b5e",
        "IPY_MODEL_365ee040d8c442f7909f4ffb8c1f2caf",
        "IPY_MODEL_d24779e630314a5fba1b8588e26afc79",
        "IPY_MODEL_d702bf658d3e4a78a275d37f8e7d0ff0"
       ],
       "layout": "IPY_MODEL_b3ff576173cd4fa485a868e820f8c812"
      }
     },
     "c72d23abe20b4ab3a6e892e1a4c4c40a": {
      "model_module": "@jupyter-widgets/base",
      "model_module_version": "1.2.0",
      "model_name": "LayoutModel",
      "state": {}
     },
     "c8536219a0dc411cabb3aee636263591": {
      "model_module": "@jupyter-widgets/controls",
      "model_module_version": "1.5.0",
      "model_name": "FloatSliderModel",
      "state": {
       "description": "a",
       "layout": "IPY_MODEL_13c828bd3a5646489727499661e52dae",
       "max": 2,
       "step": 0.1,
       "style": "IPY_MODEL_9275b8a244614a47b6dbd0c4b2bd3004",
       "value": 1
      }
     },
     "c86d90cd7362497c9c2a4f9d4c7a2a00": {
      "model_module": "@jupyter-widgets/controls",
      "model_module_version": "1.5.0",
      "model_name": "SliderStyleModel",
      "state": {
       "description_width": ""
      }
     },
     "c8af36d432e64a46bd4891d6ec0f950b": {
      "model_module": "@jupyter-widgets/controls",
      "model_module_version": "1.5.0",
      "model_name": "VBoxModel",
      "state": {
       "_dom_classes": [
        "widget-interact"
       ],
       "children": [
        "IPY_MODEL_c8536219a0dc411cabb3aee636263591",
        "IPY_MODEL_8e6f600c99d7421aa0413b98d71e7559",
        "IPY_MODEL_4219eb909a3640da978f75b05c3b6c41",
        "IPY_MODEL_9347cd2f05754c1aa959bdb19760a5e7",
        "IPY_MODEL_4d269f3522c24edcbf98e96824c5bcb9",
        "IPY_MODEL_8987db28486147f38a68f7db75fe4fca"
       ],
       "layout": "IPY_MODEL_0f1688d35a824ec5809ec74a73363cf9"
      }
     },
     "ca9903cc89fa4477bf4ddef8132716e8": {
      "model_module": "jupyter-matplotlib",
      "model_module_version": "^0.9.0",
      "model_name": "ToolbarModel",
      "state": {
       "layout": "IPY_MODEL_387d174af56348b0a7962ccc5a5b04f4",
       "toolitems": [
        [
         "Home",
         "Reset original view",
         "home",
         "home"
        ],
        [
         "Back",
         "Back to previous view",
         "arrow-left",
         "back"
        ],
        [
         "Forward",
         "Forward to next view",
         "arrow-right",
         "forward"
        ],
        [
         "Pan",
         "Pan axes with left mouse, zoom with right",
         "arrows",
         "pan"
        ],
        [
         "Zoom",
         "Zoom to rectangle",
         "square-o",
         "zoom"
        ],
        [
         "Download",
         "Download plot",
         "floppy-o",
         "save_figure"
        ]
       ]
      }
     },
     "cd1f785c99744a029104637ee536825d": {
      "model_module": "jupyter-matplotlib",
      "model_module_version": "^0.9.0",
      "model_name": "ToolbarModel",
      "state": {
       "layout": "IPY_MODEL_6bd90e83dd184907b49dacdb1c1808b8",
       "toolitems": [
        [
         "Home",
         "Reset original view",
         "home",
         "home"
        ],
        [
         "Back",
         "Back to previous view",
         "arrow-left",
         "back"
        ],
        [
         "Forward",
         "Forward to next view",
         "arrow-right",
         "forward"
        ],
        [
         "Pan",
         "Pan axes with left mouse, zoom with right",
         "arrows",
         "pan"
        ],
        [
         "Zoom",
         "Zoom to rectangle",
         "square-o",
         "zoom"
        ],
        [
         "Download",
         "Download plot",
         "floppy-o",
         "save_figure"
        ]
       ]
      }
     },
     "cd743262d656486598b50b26630c059c": {
      "model_module": "@jupyter-widgets/controls",
      "model_module_version": "1.5.0",
      "model_name": "SliderStyleModel",
      "state": {
       "description_width": ""
      }
     },
     "ce09dde0b8504e81b6c30e8f4e7e66df": {
      "model_module": "@jupyter-widgets/base",
      "model_module_version": "1.2.0",
      "model_name": "LayoutModel",
      "state": {}
     },
     "ce7bed7b8aa64b139a70b916c6bf8b39": {
      "model_module": "jupyter-matplotlib",
      "model_module_version": "^0.9.0",
      "model_name": "ToolbarModel",
      "state": {
       "layout": "IPY_MODEL_913bb339d5d34d45b9c4a6d26a753719",
       "toolitems": [
        [
         "Home",
         "Reset original view",
         "home",
         "home"
        ],
        [
         "Back",
         "Back to previous view",
         "arrow-left",
         "back"
        ],
        [
         "Forward",
         "Forward to next view",
         "arrow-right",
         "forward"
        ],
        [
         "Pan",
         "Pan axes with left mouse, zoom with right",
         "arrows",
         "pan"
        ],
        [
         "Zoom",
         "Zoom to rectangle",
         "square-o",
         "zoom"
        ],
        [
         "Download",
         "Download plot",
         "floppy-o",
         "save_figure"
        ]
       ]
      }
     },
     "ce8e1e182ece4a53b51cc02f3c09e7d0": {
      "model_module": "@jupyter-widgets/base",
      "model_module_version": "1.2.0",
      "model_name": "LayoutModel",
      "state": {}
     },
     "ced4729757dc41eb9b914890993255c6": {
      "model_module": "@jupyter-widgets/base",
      "model_module_version": "1.2.0",
      "model_name": "LayoutModel",
      "state": {}
     },
     "cf0bcb3dc4c14b1da946b18f81f9e9d1": {
      "model_module": "@jupyter-widgets/controls",
      "model_module_version": "1.5.0",
      "model_name": "VBoxModel",
      "state": {
       "_dom_classes": [
        "widget-interact"
       ],
       "children": [
        "IPY_MODEL_3e0473e9c5d14c88b0a188784a48e434",
        "IPY_MODEL_f956e5469ea6441c97a3968fe352988c",
        "IPY_MODEL_9fdee2270794490e9ec737df8be49c8a",
        "IPY_MODEL_33010c0207484bc193992d376e9f8d97",
        "IPY_MODEL_d895875279864e6cbf1665e9bcf46675",
        "IPY_MODEL_38e0c8dc288d470f8eadad4e3a35e0ef"
       ],
       "layout": "IPY_MODEL_a8fd94c20f1543898965b3b9f8479213"
      }
     },
     "cf51c23072a64e1d844140ca4390abf1": {
      "model_module": "@jupyter-widgets/controls",
      "model_module_version": "1.5.0",
      "model_name": "SliderStyleModel",
      "state": {
       "description_width": ""
      }
     },
     "d17ebbcfb859454f9eeb311a993afb18": {
      "model_module": "jupyter-matplotlib",
      "model_module_version": "^0.9.0",
      "model_name": "ToolbarModel",
      "state": {
       "layout": "IPY_MODEL_1f37971b3a32421981af0b83dc93b631",
       "toolitems": [
        [
         "Home",
         "Reset original view",
         "home",
         "home"
        ],
        [
         "Back",
         "Back to previous view",
         "arrow-left",
         "back"
        ],
        [
         "Forward",
         "Forward to next view",
         "arrow-right",
         "forward"
        ],
        [
         "Pan",
         "Pan axes with left mouse, zoom with right",
         "arrows",
         "pan"
        ],
        [
         "Zoom",
         "Zoom to rectangle",
         "square-o",
         "zoom"
        ],
        [
         "Download",
         "Download plot",
         "floppy-o",
         "save_figure"
        ]
       ]
      }
     },
     "d24779e630314a5fba1b8588e26afc79": {
      "model_module": "@jupyter-widgets/controls",
      "model_module_version": "1.5.0",
      "model_name": "FloatSliderModel",
      "state": {
       "description": "T",
       "layout": "IPY_MODEL_b057e254bb51453eb89ae19802b3e9ec",
       "max": 3,
       "step": 0.1,
       "style": "IPY_MODEL_60f560b642904e8c835261e8f2547723",
       "value": 1.5
      }
     },
     "d3078c8f5e64422cb61b05a045b3d6d8": {
      "model_module": "@jupyter-widgets/base",
      "model_module_version": "1.2.0",
      "model_name": "LayoutModel",
      "state": {}
     },
     "d3cd5717ccb543b4900a86f432d65cc8": {
      "model_module": "@jupyter-widgets/base",
      "model_module_version": "1.2.0",
      "model_name": "LayoutModel",
      "state": {}
     },
     "d41fed10661f431a9e34b0e738a4cf16": {
      "model_module": "@jupyter-widgets/base",
      "model_module_version": "1.2.0",
      "model_name": "LayoutModel",
      "state": {}
     },
     "d48618f3b6cf41029eb2c434b01934a9": {
      "model_module": "jupyter-matplotlib",
      "model_module_version": "^0.9.0",
      "model_name": "ToolbarModel",
      "state": {
       "layout": "IPY_MODEL_bfdb7fc3df444d7490174c0c78f25133",
       "toolitems": [
        [
         "Home",
         "Reset original view",
         "home",
         "home"
        ],
        [
         "Back",
         "Back to previous view",
         "arrow-left",
         "back"
        ],
        [
         "Forward",
         "Forward to next view",
         "arrow-right",
         "forward"
        ],
        [
         "Pan",
         "Pan axes with left mouse, zoom with right",
         "arrows",
         "pan"
        ],
        [
         "Zoom",
         "Zoom to rectangle",
         "square-o",
         "zoom"
        ],
        [
         "Download",
         "Download plot",
         "floppy-o",
         "save_figure"
        ]
       ]
      }
     },
     "d4a11ee8393a45a8b97106c8b924a8c6": {
      "model_module": "jupyter-matplotlib",
      "model_module_version": "^0.9.0",
      "model_name": "ToolbarModel",
      "state": {
       "layout": "IPY_MODEL_8078937e6a074a40b52f464e893e7464",
       "toolitems": [
        [
         "Home",
         "Reset original view",
         "home",
         "home"
        ],
        [
         "Back",
         "Back to previous view",
         "arrow-left",
         "back"
        ],
        [
         "Forward",
         "Forward to next view",
         "arrow-right",
         "forward"
        ],
        [
         "Pan",
         "Pan axes with left mouse, zoom with right",
         "arrows",
         "pan"
        ],
        [
         "Zoom",
         "Zoom to rectangle",
         "square-o",
         "zoom"
        ],
        [
         "Download",
         "Download plot",
         "floppy-o",
         "save_figure"
        ]
       ]
      }
     },
     "d4c82c1ddaf54967b488f15226d2d864": {
      "model_module": "@jupyter-widgets/base",
      "model_module_version": "1.2.0",
      "model_name": "LayoutModel",
      "state": {}
     },
     "d4fa12b2a8574462bba9ae2fd61a8bca": {
      "model_module": "jupyter-matplotlib",
      "model_module_version": "^0.9.0",
      "model_name": "ToolbarModel",
      "state": {
       "layout": "IPY_MODEL_90caf7bcc6c94104a344cbe29612fb91",
       "toolitems": [
        [
         "Home",
         "Reset original view",
         "home",
         "home"
        ],
        [
         "Back",
         "Back to previous view",
         "arrow-left",
         "back"
        ],
        [
         "Forward",
         "Forward to next view",
         "arrow-right",
         "forward"
        ],
        [
         "Pan",
         "Pan axes with left mouse, zoom with right",
         "arrows",
         "pan"
        ],
        [
         "Zoom",
         "Zoom to rectangle",
         "square-o",
         "zoom"
        ],
        [
         "Download",
         "Download plot",
         "floppy-o",
         "save_figure"
        ]
       ]
      }
     },
     "d5561be7ac1a4f169a450d956b207b5e": {
      "model_module": "@jupyter-widgets/controls",
      "model_module_version": "1.5.0",
      "model_name": "FloatSliderModel",
      "state": {
       "description": "c",
       "layout": "IPY_MODEL_f949bda4e28e4ed195b0dc7392b4b540",
       "max": 1,
       "min": 0.05,
       "step": 0.1,
       "style": "IPY_MODEL_efae07dc3ed84425ad1ad2ae00c239c2",
       "value": 0.45
      }
     },
     "d702bf658d3e4a78a275d37f8e7d0ff0": {
      "model_module": "@jupyter-widgets/output",
      "model_module_version": "1.0.0",
      "model_name": "OutputModel",
      "state": {
       "layout": "IPY_MODEL_e44d9a6a64a647e597132f58722b315f",
       "outputs": [
        {
         "data": {
          "application/vnd.jupyter.widget-view+json": {
           "model_id": "",
           "version_major": 2,
           "version_minor": 0
          },
          "text/plain": "Canvas(toolbar=Toolbar(toolitems=[('Home', 'Reset original view', 'home', 'home'), ('Back', 'Back to previous …"
         },
         "metadata": {},
         "output_type": "display_data"
        }
       ]
      }
     },
     "d7b3a0ccaf0c4c00877c8a7c9219190b": {
      "model_module": "@jupyter-widgets/base",
      "model_module_version": "1.2.0",
      "model_name": "LayoutModel",
      "state": {}
     },
     "d8721ec5c168456b9761384287ccaab8": {
      "model_module": "@jupyter-widgets/controls",
      "model_module_version": "1.5.0",
      "model_name": "FloatSliderModel",
      "state": {
       "description": "c",
       "layout": "IPY_MODEL_6d141888c6fc42f9812d564d9bd3a506",
       "max": 1,
       "min": 0.05,
       "step": 0.1,
       "style": "IPY_MODEL_be56f682b3514991b73ff36c76e87cf5",
       "value": 0.95
      }
     },
     "d895875279864e6cbf1665e9bcf46675": {
      "model_module": "@jupyter-widgets/controls",
      "model_module_version": "1.5.0",
      "model_name": "FloatSliderModel",
      "state": {
       "description": "T",
       "layout": "IPY_MODEL_69ed0ca387464fe58abd545df1675f66",
       "max": 3,
       "step": 0.1,
       "style": "IPY_MODEL_07fe80f039774e41adbe9058d97ccf84",
       "value": 1.5
      }
     },
     "d8f4838e4bf4453a9fa9cdd9029f2812": {
      "model_module": "@jupyter-widgets/base",
      "model_module_version": "1.2.0",
      "model_name": "LayoutModel",
      "state": {}
     },
     "da5f7ba776014e858f41070586aef779": {
      "model_module": "@jupyter-widgets/base",
      "model_module_version": "1.2.0",
      "model_name": "LayoutModel",
      "state": {}
     },
     "dc1d1e9beedd4eacb62b19a0740148d2": {
      "model_module": "jupyter-matplotlib",
      "model_module_version": "^0.9.0",
      "model_name": "ToolbarModel",
      "state": {
       "layout": "IPY_MODEL_bafb1fe072974757a39be4d1f3d0582a",
       "toolitems": [
        [
         "Home",
         "Reset original view",
         "home",
         "home"
        ],
        [
         "Back",
         "Back to previous view",
         "arrow-left",
         "back"
        ],
        [
         "Forward",
         "Forward to next view",
         "arrow-right",
         "forward"
        ],
        [
         "Pan",
         "Pan axes with left mouse, zoom with right",
         "arrows",
         "pan"
        ],
        [
         "Zoom",
         "Zoom to rectangle",
         "square-o",
         "zoom"
        ],
        [
         "Download",
         "Download plot",
         "floppy-o",
         "save_figure"
        ]
       ]
      }
     },
     "dc1dcd359bcb4eba87b0b823d92ad1df": {
      "model_module": "@jupyter-widgets/base",
      "model_module_version": "1.2.0",
      "model_name": "LayoutModel",
      "state": {}
     },
     "de8a338a7d0843689f3b0b756cbf79af": {
      "model_module": "jupyter-matplotlib",
      "model_module_version": "^0.9.0",
      "model_name": "ToolbarModel",
      "state": {
       "layout": "IPY_MODEL_31c15e9f61f146ceabe907e22896584e",
       "toolitems": [
        [
         "Home",
         "Reset original view",
         "home",
         "home"
        ],
        [
         "Back",
         "Back to previous view",
         "arrow-left",
         "back"
        ],
        [
         "Forward",
         "Forward to next view",
         "arrow-right",
         "forward"
        ],
        [
         "Pan",
         "Pan axes with left mouse, zoom with right",
         "arrows",
         "pan"
        ],
        [
         "Zoom",
         "Zoom to rectangle",
         "square-o",
         "zoom"
        ],
        [
         "Download",
         "Download plot",
         "floppy-o",
         "save_figure"
        ]
       ]
      }
     },
     "dee2355e050e44a6921c2bede068ca96": {
      "model_module": "@jupyter-widgets/controls",
      "model_module_version": "1.5.0",
      "model_name": "VBoxModel",
      "state": {
       "_dom_classes": [
        "widget-interact"
       ],
       "children": [
        "IPY_MODEL_3dcaa9d0a22a4777a35c6db61400dc01",
        "IPY_MODEL_031fe2811a454ebcbde8d3722b67e511",
        "IPY_MODEL_d8721ec5c168456b9761384287ccaab8",
        "IPY_MODEL_a9c3f5f71d4c4852bbfae15554107ceb",
        "IPY_MODEL_4c349a8d46074d47a90da276d3696ec2",
        "IPY_MODEL_07637b709a714408a84d9262e3e55430"
       ],
       "layout": "IPY_MODEL_ce09dde0b8504e81b6c30e8f4e7e66df"
      }
     },
     "e43548b560b54357a5195df3d33796e3": {
      "model_module": "@jupyter-widgets/base",
      "model_module_version": "1.2.0",
      "model_name": "LayoutModel",
      "state": {}
     },
     "e44d9a6a64a647e597132f58722b315f": {
      "model_module": "@jupyter-widgets/base",
      "model_module_version": "1.2.0",
      "model_name": "LayoutModel",
      "state": {
       "height": "400px"
      }
     },
     "e4ce41ef4e784b99871f8a74ec321b8e": {
      "model_module": "@jupyter-widgets/controls",
      "model_module_version": "1.5.0",
      "model_name": "FloatSliderModel",
      "state": {
       "description": "c",
       "layout": "IPY_MODEL_d7b3a0ccaf0c4c00877c8a7c9219190b",
       "max": 1,
       "min": 0.05,
       "step": 0.1,
       "style": "IPY_MODEL_25b425f7d29746afab67b52ee86be185",
       "value": 0.45
      }
     },
     "e509a46c56ec44f6a977e1603227aa05": {
      "model_module": "@jupyter-widgets/base",
      "model_module_version": "1.2.0",
      "model_name": "LayoutModel",
      "state": {}
     },
     "e5e80e21e5a848d2b4ea3e2757a2d26d": {
      "model_module": "@jupyter-widgets/controls",
      "model_module_version": "1.5.0",
      "model_name": "FloatSliderModel",
      "state": {
       "description": "b",
       "layout": "IPY_MODEL_ced4729757dc41eb9b914890993255c6",
       "max": 0,
       "min": -3,
       "step": 0.1,
       "style": "IPY_MODEL_24027414366c4d66bd5a9c65c1a5c9df",
       "value": -1.5
      }
     },
     "e6839b87ac3c4b66ae07dcf58f7c9675": {
      "model_module": "@jupyter-widgets/base",
      "model_module_version": "1.2.0",
      "model_name": "LayoutModel",
      "state": {}
     },
     "e6925694069b49789f9498413487805c": {
      "model_module": "@jupyter-widgets/base",
      "model_module_version": "1.2.0",
      "model_name": "LayoutModel",
      "state": {}
     },
     "e8359b54b7cf40759e62fee1de6b05b9": {
      "model_module": "jupyter-matplotlib",
      "model_module_version": "^0.9.0",
      "model_name": "ToolbarModel",
      "state": {
       "layout": "IPY_MODEL_36044516fa074cfaa97f117b64d67d7b",
       "toolitems": [
        [
         "Home",
         "Reset original view",
         "home",
         "home"
        ],
        [
         "Back",
         "Back to previous view",
         "arrow-left",
         "back"
        ],
        [
         "Forward",
         "Forward to next view",
         "arrow-right",
         "forward"
        ],
        [
         "Pan",
         "Pan axes with left mouse, zoom with right",
         "arrows",
         "pan"
        ],
        [
         "Zoom",
         "Zoom to rectangle",
         "square-o",
         "zoom"
        ],
        [
         "Download",
         "Download plot",
         "floppy-o",
         "save_figure"
        ]
       ]
      }
     },
     "e985df2591c84e62ac954dee2b601846": {
      "model_module": "jupyter-matplotlib",
      "model_module_version": "^0.9.0",
      "model_name": "ToolbarModel",
      "state": {
       "layout": "IPY_MODEL_aa86d4fb508845a984d686ec4425ff58",
       "toolitems": [
        [
         "Home",
         "Reset original view",
         "home",
         "home"
        ],
        [
         "Back",
         "Back to previous view",
         "arrow-left",
         "back"
        ],
        [
         "Forward",
         "Forward to next view",
         "arrow-right",
         "forward"
        ],
        [
         "Pan",
         "Pan axes with left mouse, zoom with right",
         "arrows",
         "pan"
        ],
        [
         "Zoom",
         "Zoom to rectangle",
         "square-o",
         "zoom"
        ],
        [
         "Download",
         "Download plot",
         "floppy-o",
         "save_figure"
        ]
       ]
      }
     },
     "ec1242469be84c358fff48f0f97900ae": {
      "model_module": "@jupyter-widgets/base",
      "model_module_version": "1.2.0",
      "model_name": "LayoutModel",
      "state": {}
     },
     "ed9ac0e39f0d41f9878078f92b02f587": {
      "model_module": "@jupyter-widgets/controls",
      "model_module_version": "1.5.0",
      "model_name": "FloatSliderModel",
      "state": {
       "description": "T",
       "layout": "IPY_MODEL_69c73bb7a0874ce385e1dcead2cced45",
       "max": 3,
       "step": 0.1,
       "style": "IPY_MODEL_a3f6750d3da947e386c6602738f853cf",
       "value": 1.5
      }
     },
     "ee3c88a8b1e04c9c86a10142c8d03c80": {
      "model_module": "@jupyter-widgets/output",
      "model_module_version": "1.0.0",
      "model_name": "OutputModel",
      "state": {
       "layout": "IPY_MODEL_0ecd2ebd9c0f43d0a254f5bcfb71caf0",
       "outputs": [
        {
         "data": {
          "application/vnd.jupyter.widget-view+json": {
           "model_id": "4207a352901747c78bfd4d4b6ff1519b",
           "version_major": 2,
           "version_minor": 0
          },
          "text/plain": "Canvas(toolbar=Toolbar(toolitems=[('Home', 'Reset original view', 'home', 'home'), ('Back', 'Back to previous …"
         },
         "metadata": {},
         "output_type": "display_data"
        }
       ]
      }
     },
     "efae07dc3ed84425ad1ad2ae00c239c2": {
      "model_module": "@jupyter-widgets/controls",
      "model_module_version": "1.5.0",
      "model_name": "SliderStyleModel",
      "state": {
       "description_width": ""
      }
     },
     "f13899cf7dd04a14b1d94a4f5200f22e": {
      "model_module": "@jupyter-widgets/base",
      "model_module_version": "1.2.0",
      "model_name": "LayoutModel",
      "state": {}
     },
     "f1898caa7ade4b9eaf61095db29f4ef6": {
      "model_module": "@jupyter-widgets/base",
      "model_module_version": "1.2.0",
      "model_name": "LayoutModel",
      "state": {}
     },
     "f18ef10936144372afd5e7449ba1a118": {
      "model_module": "jupyter-matplotlib",
      "model_module_version": "^0.9.0",
      "model_name": "ToolbarModel",
      "state": {
       "layout": "IPY_MODEL_d41fed10661f431a9e34b0e738a4cf16",
       "toolitems": [
        [
         "Home",
         "Reset original view",
         "home",
         "home"
        ],
        [
         "Back",
         "Back to previous view",
         "arrow-left",
         "back"
        ],
        [
         "Forward",
         "Forward to next view",
         "arrow-right",
         "forward"
        ],
        [
         "Pan",
         "Pan axes with left mouse, zoom with right",
         "arrows",
         "pan"
        ],
        [
         "Zoom",
         "Zoom to rectangle",
         "square-o",
         "zoom"
        ],
        [
         "Download",
         "Download plot",
         "floppy-o",
         "save_figure"
        ]
       ]
      }
     },
     "f20fd73cb67645e387dfa2eec0cef35b": {
      "model_module": "@jupyter-widgets/base",
      "model_module_version": "1.2.0",
      "model_name": "LayoutModel",
      "state": {}
     },
     "f23d9f5513b94f81815db0007ed1e75c": {
      "model_module": "@jupyter-widgets/base",
      "model_module_version": "1.2.0",
      "model_name": "LayoutModel",
      "state": {}
     },
     "f38d37eee00f452cb13250561fb1ad41": {
      "model_module": "@jupyter-widgets/controls",
      "model_module_version": "1.5.0",
      "model_name": "SliderStyleModel",
      "state": {
       "description_width": ""
      }
     },
     "f4c186a7204d4b9bb951f01f7fb0cce3": {
      "model_module": "@jupyter-widgets/base",
      "model_module_version": "1.2.0",
      "model_name": "LayoutModel",
      "state": {}
     },
     "f5d05c4f75c94c6c839b59de27802d1a": {
      "model_module": "@jupyter-widgets/controls",
      "model_module_version": "1.5.0",
      "model_name": "FloatSliderModel",
      "state": {
       "description": "b",
       "layout": "IPY_MODEL_f4c186a7204d4b9bb951f01f7fb0cce3",
       "max": 0,
       "min": -3,
       "step": 0.1,
       "style": "IPY_MODEL_0be594b50a564ddf9bb63091f2da3c16",
       "value": -1.5
      }
     },
     "f71bc973d5874ba5a5723bd0eacb4545": {
      "model_module": "@jupyter-widgets/base",
      "model_module_version": "1.2.0",
      "model_name": "LayoutModel",
      "state": {}
     },
     "f7b6b67e604b4713b8f2cfe45c6f64c8": {
      "model_module": "@jupyter-widgets/controls",
      "model_module_version": "1.5.0",
      "model_name": "SliderStyleModel",
      "state": {
       "description_width": ""
      }
     },
     "f949bda4e28e4ed195b0dc7392b4b540": {
      "model_module": "@jupyter-widgets/base",
      "model_module_version": "1.2.0",
      "model_name": "LayoutModel",
      "state": {}
     },
     "f956e5469ea6441c97a3968fe352988c": {
      "model_module": "@jupyter-widgets/controls",
      "model_module_version": "1.5.0",
      "model_name": "FloatSliderModel",
      "state": {
       "description": "b",
       "layout": "IPY_MODEL_0ae1b01c6b914e80828922f8139092e6",
       "max": 0,
       "min": -3,
       "step": 0.1,
       "style": "IPY_MODEL_bc7dcaf86ca14574b1f3842033d8375b",
       "value": -1.5
      }
     },
     "f99b823524d34af1a5b67934e72c48b0": {
      "model_module": "@jupyter-widgets/controls",
      "model_module_version": "1.5.0",
      "model_name": "SliderStyleModel",
      "state": {
       "description_width": ""
      }
     },
     "f9f9930f642f4000b0c27f51720f9bb2": {
      "model_module": "@jupyter-widgets/controls",
      "model_module_version": "1.5.0",
      "model_name": "SliderStyleModel",
      "state": {
       "description_width": ""
      }
     },
     "fb0388d56077409f978528b552b5f5eb": {
      "model_module": "@jupyter-widgets/base",
      "model_module_version": "1.2.0",
      "model_name": "LayoutModel",
      "state": {}
     },
     "fc1baa87ae5a474fb2a8557b6fc55174": {
      "model_module": "@jupyter-widgets/controls",
      "model_module_version": "1.5.0",
      "model_name": "SliderStyleModel",
      "state": {
       "description_width": ""
      }
     },
     "fcc502fb9ff04a5c835268a848d01649": {
      "model_module": "@jupyter-widgets/base",
      "model_module_version": "1.2.0",
      "model_name": "LayoutModel",
      "state": {}
     },
     "fda775896f34472195601af76f42a8ec": {
      "model_module": "jupyter-matplotlib",
      "model_module_version": "^0.9.0",
      "model_name": "ToolbarModel",
      "state": {
       "layout": "IPY_MODEL_a4f3a057dc3743a0bf47aed46fa6db81",
       "toolitems": [
        [
         "Home",
         "Reset original view",
         "home",
         "home"
        ],
        [
         "Back",
         "Back to previous view",
         "arrow-left",
         "back"
        ],
        [
         "Forward",
         "Forward to next view",
         "arrow-right",
         "forward"
        ],
        [
         "Pan",
         "Pan axes with left mouse, zoom with right",
         "arrows",
         "pan"
        ],
        [
         "Zoom",
         "Zoom to rectangle",
         "square-o",
         "zoom"
        ],
        [
         "Download",
         "Download plot",
         "floppy-o",
         "save_figure"
        ]
       ]
      }
     },
     "fe13575d179e4dbca9cf4927a0929753": {
      "model_module": "@jupyter-widgets/controls",
      "model_module_version": "1.5.0",
      "model_name": "SliderStyleModel",
      "state": {
       "description_width": ""
      }
     }
    },
    "version_major": 2,
    "version_minor": 0
   }
  }
 },
 "nbformat": 4,
 "nbformat_minor": 4
}
