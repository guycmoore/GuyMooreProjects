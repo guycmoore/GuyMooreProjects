{
 "cells": [
  {
   "cell_type": "code",
   "execution_count": 1,
   "metadata": {},
   "outputs": [],
   "source": [
    "import numpy as np\n",
    "import numpy.linalg as npla\n",
    "\n",
    "import matplotlib as mpl\n",
    "import matplotlib.pyplot as plt\n",
    "mpl.rcParams['figure.dpi']= 300"
   ]
  },
  {
   "cell_type": "code",
   "execution_count": 2,
   "metadata": {},
   "outputs": [],
   "source": [
    "def sv_lhs (x, x0, roots, exps):\n",
    "    y = 1.0\n",
    "    for r,e in zip(roots, exps):\n",
    "        y *= np.power((x - r)/(x0 - r), e)\n",
    "    return y\n",
    "#     y = 0.0\n",
    "#     for r,e in zip(roots, exps):\n",
    "#         y += e * np.log((x - r)/(x0 - r))\n",
    "#     return y\n",
    "\n",
    "def sv_lhs_deriv (x, x0, roots, exps):\n",
    "    y = 0.0\n",
    "    for j in range(len(roots)):\n",
    "        prod = 1.0\n",
    "        for i in range(len(roots)):\n",
    "            if i != j:\n",
    "                prod *= np.power((x-roots[i])/(x0-roots[i]), \n",
    "                                exps[i])\n",
    "            else:\n",
    "                prod *= exps[i] * np.power((x - roots[i])/(x0 - roots[i]), \n",
    "                                exps[i] - 1.0)\n",
    "        y += prod\n",
    "    return y\n",
    "#     y = 0.0\n",
    "#     for r,e in zip(roots, exps):\n",
    "#         y += e * (x0 - r) / (x - r)\n",
    "#     return y\n",
    "\n",
    "# def sv_nr_ratio (x, x0, roots, exps, t, alpha):\n",
    "#     lhs = sv_lhs (x, x0, roots, exps)\n",
    "#     dlhs = sv_lhs_deriv (x, x0, roots, exps)\n",
    "#     y = (lhs - np.exp(- alpha * t)) / dlhs\n",
    "#     # y = (lhs + alpha * t) / dlhs\n",
    "#     #print(y, lhs, dlhs)\n",
    "# #     s = 0.0\n",
    "# #     for r,e in zip(roots, exps):\n",
    "# #         s += e * (x0 - r)/(x - r)\n",
    "# #     lhs = sv_lhs (x, x0, roots, exps)\n",
    "# #     y = (1.0 / s) * (1.0 - np.exp(- alpha * t) / lhs)\n",
    "# #     print(y, lhs, s)\n",
    "#     return y"
   ]
  },
  {
   "cell_type": "code",
   "execution_count": 3,
   "metadata": {},
   "outputs": [],
   "source": [
    "def newton_raphson_poly (p, x_guess, tol=1e-9, max_iter=100):\n",
    "    pd = np.polyder(p);\n",
    "    x = x_guess\n",
    "    for i in range(max_iter):\n",
    "        err = x\n",
    "        x = x - np.polyval(p,x) / np.polyval(pd,x)\n",
    "        err = abs((x - err) / x)\n",
    "        print(\"x, err = \", x, err)\n",
    "        if err < tol:\n",
    "            break\n",
    "    \n",
    "    return x\n",
    "\n",
    "def bisection_sv (xm, x1, x2, \n",
    "                  m0, roots, exps, \n",
    "                  t, alpha,\n",
    "                  counter=0, tol=1e-10, max_iter=1000):\n",
    "    \n",
    "    fm = np.real(sv_lhs (xm, m0, roots, exps) - np.exp(- alpha * t))\n",
    "    f1 = np.real(sv_lhs (x1, m0, roots, exps) - np.exp(- alpha * t))\n",
    "    f2 = np.real(sv_lhs (x2, m0, roots, exps) - np.exp(- alpha * t))\n",
    "    \n",
    "    if np.isnan(f1):\n",
    "        if 0 < np.real(sv_lhs (x1+tol*(x2-x1), m0, roots, exps) - np.exp(- alpha * t)):\n",
    "            f1 = float('inf')\n",
    "        else:\n",
    "            f1 = -float('inf')\n",
    "    \n",
    "    if np.isnan(f2):\n",
    "        if 0 < np.real(sv_lhs (x2-tol*(x2-x1), m0, roots, exps) - np.exp(- alpha * t)):\n",
    "            f2 = float('inf')\n",
    "        else:\n",
    "            f2 = -float('inf')\n",
    "    \n",
    "    # print(\"function evals\", f1, fm, f2)\n",
    "    \n",
    "    if counter > max_iter:\n",
    "        print(\"Convergence not reached.\")\n",
    "        #return float('nan')\n",
    "        return 0.0\n",
    "    \n",
    "    err = np.abs((x2-x1)/xm)\n",
    "    #err = np.abs((x2-x1)/xm)\n",
    "    if err < tol:\n",
    "        print(\"num iter = \", counter)\n",
    "        return xm\n",
    "    \n",
    "#     print(\"bisection step (x, err): \", xm, err)\n",
    "    \n",
    "    if np.sign(fm)*np.sign(f1) > 0 \\\n",
    "            and np.sign(fm)*np.sign(f2) > 0:\n",
    "        print(\"Error! No zero found.\")\n",
    "        return float('nan')\n",
    "        #return 0.0\n",
    "    else:\n",
    "        if np.sign(fm)*np.sign(f1) > 0:\n",
    "            x = bisection_sv(0.5*(xm+x2), xm, x2, \n",
    "                        m0, roots, exps, t, alpha,\n",
    "                        counter+1, tol, max_iter)\n",
    "            return x\n",
    "        elif np.sign(fm)*np.sign(f2) > 0:\n",
    "            x = bisection_sv(0.5*(x1+xm), x1, xm, \n",
    "                        m0, roots, exps, t, alpha,\n",
    "                        counter+1, tol, max_iter)\n",
    "            return x\n",
    "        else:\n",
    "            print(\"Warning! Case not accounted.\")\n",
    "            print(\"num iter = \", counter)\n",
    "            #return float('nan')\n",
    "            return xm\n",
    "\n",
    "def zero_finder_sv (x_guess, x0, roots, exps, \n",
    "                    t, alpha,\n",
    "                    tol=1e-10, max_iter=1000):\n",
    "    \n",
    "    imag_tol = 1.0e-12\n",
    "    r_sort = []\n",
    "    for r in roots:\n",
    "        if np.abs(np.imag(r)) < imag_tol:\n",
    "            r_sort.append(np.real(r))\n",
    "    r_sort.sort()\n",
    "    if x_guess <= r_sort[0]:\n",
    "        bound_lo, bound_hi = -float('inf'), r_sort[0]\n",
    "    elif x_guess >= r_sort[-1]:\n",
    "        bound_lo, bound_hi = r_sort[-1], float('inf')\n",
    "    else:\n",
    "        for i in range(1, len(r_sort)):\n",
    "            if x_guess <= r_sort[i]:\n",
    "                bound_lo, bound_hi = r_sort[i-1], r_sort[i]\n",
    "                break\n",
    "    \n",
    "#     print(\"Bounds: \", bound_lo, bound_hi)\n",
    "#     print(\"Initial guess: \", x_guess)\n",
    "    \n",
    "    # h = tol * min (bound_hi - x_guess, x_guess - bound_lo)\n",
    "    h = 0.0\n",
    "    x = bisection_sv (x_guess, bound_lo+h, bound_hi-h, \n",
    "                      x0, roots, exps, t, alpha,\n",
    "                      tol = tol)\n",
    "    \n",
    "#     x = x_guess\n",
    "#     for i in range(max_iter):\n",
    "#         x_prev = x\n",
    "#         x = x - sv_nr_ratio (x, x0, roots, exps, t, alpha)\n",
    "#         x = np.real(x)\n",
    "#         if x <= bound_lo:\n",
    "#             x = 0.5 * (x_prev + bound_lo)\n",
    "#         elif x >= bound_hi:\n",
    "#             x = 0.5 * (x_prev + bound_hi)\n",
    "#         err = abs((x - x_prev) / x)\n",
    "#         print(\"x, err = \", x, err)\n",
    "#         if err < tol:\n",
    "#             break\n",
    "    \n",
    "    return x"
   ]
  },
  {
   "cell_type": "markdown",
   "metadata": {},
   "source": [
    "Example"
   ]
  },
  {
   "cell_type": "code",
   "execution_count": 4,
   "metadata": {},
   "outputs": [
    {
     "data": {
      "image/png": "[encoded data removed]",
      "text/plain": [
       "<Figure size 432x288 with 1 Axes>"
      ]
     },
     "metadata": {
      "needs_background": "light"
     },
     "output_type": "display_data"
    }
   ],
   "source": [
    "a, b, c, d = 1.0, -20.0, 50.0, -100.0\n",
    "pu = [1/6 * a, 0.0, 1/4 * b, 0.0, 1/2 * c, d, 0.0];\n",
    "p = np.polyder(pu);\n",
    "\n",
    "xv = np.linspace(-6.0, 6.0, 100)\n",
    "\n",
    "plt.figure();\n",
    "plt.plot(xv, np.polyval(pu, xv), linewidth=2);\n",
    "plt.plot(xv, np.polyval(p, xv), linewidth=2);\n",
    "plt.show();"
   ]
  },
  {
   "cell_type": "code",
   "execution_count": 5,
   "metadata": {},
   "outputs": [],
   "source": [
    "# x = newton_raphson_poly(p, 10)"
   ]
  },
  {
   "cell_type": "code",
   "execution_count": 6,
   "metadata": {},
   "outputs": [
    {
     "name": "stdout",
     "output_type": "stream",
     "text": [
      "roots = \n",
      " [[ 4.30772833+0.j        ]\n",
      " [-3.86126302+0.j        ]\n",
      " [-2.57877626+0.j        ]\n",
      " [ 1.06615548+1.09300904j]\n",
      " [ 1.06615548-1.09300904j]]\n",
      "exponents = \n",
      " [[ 0.00151899+8.22285184e-18j]\n",
      " [ 0.00374696+2.42008375e-17j]\n",
      " [-0.00781941-1.14118465e-17j]\n",
      " [ 0.00127673+6.84453213e-03j]\n",
      " [ 0.00127673-6.84453213e-03j]]\n"
     ]
    }
   ],
   "source": [
    "L = 1.0\n",
    "alpha = p[0] * L\n",
    "pn = p / p[0]\n",
    "roots = np.roots(pn)\n",
    "pord = len(roots)\n",
    "\n",
    "# Note: Roots must be unique?!\n",
    "\n",
    "C = np.zeros([pord, pord], dtype=np.cdouble)\n",
    "for i in range(len(roots)):\n",
    "    pprod = [1]\n",
    "    for j in range(len(roots)):\n",
    "        if i != j:\n",
    "            pprod = np.polymul(pprod, [1, -roots[j]])\n",
    "    #print(pprod)\n",
    "    C[0:,i] = pprod[0:]\n",
    "exps = npla.solve(C, np.array((pord-1)*[0.]+[1.]))\n",
    "\n",
    "# # test\n",
    "# pprod = [0]\n",
    "# for r,e in zip(roots, exps):\n",
    "#     pdiv, pdiv_r = np.polydiv(p, [1.0, -r])\n",
    "#     pdiv = e * pdiv\n",
    "#     pprod = np.polyadd(pprod, pdiv)\n",
    "# print(\"error = \", np.sum(np.abs(pprod-np.array((pord-1)*[0.]+[1.]))))\n",
    "\n",
    "print(\"roots = \\n\", np.transpose([roots]))\n",
    "print(\"exponents = \\n\", np.transpose([exps]))"
   ]
  },
  {
   "cell_type": "code",
   "execution_count": 20,
   "metadata": {},
   "outputs": [
    {
     "name": "stdout",
     "output_type": "stream",
     "text": [
      "Warning! Case not accounted.\n",
      "num iter =  0\n",
      "num iter =  38\n",
      "num iter =  42\n",
      "num iter =  38\n",
      "num iter =  37\n",
      "num iter =  37\n",
      "num iter =  36\n",
      "num iter =  36\n",
      "num iter =  35\n",
      "num iter =  35\n",
      "num iter =  34\n",
      "num iter =  32\n",
      "num iter =  30\n",
      "num iter =  26\n",
      "num iter =  22\n",
      "num iter =  18\n"
     ]
    },
    {
     "name": "stderr",
     "output_type": "stream",
     "text": [
      "/home/gmoore/anaconda3/envs/py3/lib/python3.7/site-packages/ipykernel_launcher.py:4: RuntimeWarning: invalid value encountered in power\n",
      "  after removing the cwd from sys.path.\n"
     ]
    }
   ],
   "source": [
    "m0 = -1.0\n",
    "\n",
    "tv = np.linspace(0.0, 0.06, 16);\n",
    "mv = np.zeros(tv.shape);\n",
    "\n",
    "tol = 1.0e-10\n",
    "\n",
    "m = m0\n",
    "for i in range(len(tv)):\n",
    "    m = zero_finder_sv (m, m0, roots, exps, tv[i], alpha, tol=tol)\n",
    "    mv[i] = m"
   ]
  },
  {
   "cell_type": "code",
   "execution_count": 21,
   "metadata": {},
   "outputs": [
    {
     "data": {
      "image/png": "[encoded data removed]",
      "text/plain": [
       "<Figure size 576x432 with 1 Axes>"
      ]
     },
     "metadata": {
      "needs_background": "light"
     },
     "output_type": "display_data"
    }
   ],
   "source": [
    "plt.figure(figsize=[8,6]);\n",
    "plt.plot(tv, mv, 'b.-');\n",
    "plt.ylabel('m');\n",
    "plt.xlabel('t');\n",
    "plt.show();"
   ]
  },
  {
   "cell_type": "code",
   "execution_count": 9,
   "metadata": {
    "scrolled": false
   },
   "outputs": [
    {
     "data": {
      "image/png": "[encoded data removed]",
      "text/plain": [
       "<Figure size 720x360 with 1 Axes>"
      ]
     },
     "metadata": {
      "needs_background": "light"
     },
     "output_type": "display_data"
    }
   ],
   "source": [
    "t = 0.0\n",
    "m = np.linspace(-6.0, 6.0, 1000)\n",
    "y = (sv_lhs (m, m0, roots, exps))\n",
    "\n",
    "plt.figure(figsize=[10,5]);\n",
    "plt.plot(m, np.abs(y), 'g-')\n",
    "#plt.plot(m, np.imag(y), 'r-')\n",
    "plt.plot(m, np.real(y), 'b-')\n",
    "\n",
    "plt.plot(m, np.exp(-alpha*t) + 0.0*m, 'm--')\n",
    "#plt.plot(m, -alpha*t + 0.0*m, 'm--')\n",
    "plt.plot(m, 1.0 + 0.0*m, 'y-.')\n",
    "\n",
    "for r in roots:\n",
    "    if np.abs(np.imag(r)) < 1e-12:\n",
    "        plt.plot(np.real(r) + 0.0*m, \n",
    "                 np.linspace(np.min(np.real(y)), np.max(np.real(y)), len(m)), 'y--')\n",
    "\n",
    "plt.show()\n",
    "\n",
    "# yp = sv_lhs_deriv (m, m0, roots, exps)\n",
    "\n",
    "# plt.figure(figsize=[10,5]);\n",
    "# plt.plot(m, np.real(yp), 'b-')\n",
    "# plt.plot(m, np.imag(yp), 'r.')\n",
    "# #plt.plot(m, np.abs(yp), 'g.')\n",
    "# plt.show()"
   ]
  },
  {
   "cell_type": "code",
   "execution_count": null,
   "metadata": {},
   "outputs": [],
   "source": []
  },
  {
   "cell_type": "code",
   "execution_count": null,
   "metadata": {},
   "outputs": [],
   "source": []
  }
 ],
 "metadata": {
  "kernelspec": {
   "display_name": "Python 3",
   "language": "python",
   "name": "python3"
  },
  "language_info": {
   "codemirror_mode": {
    "name": "ipython",
    "version": 3
   },
   "file_extension": ".py",
   "mimetype": "text/x-python",
   "name": "python",
   "nbconvert_exporter": "python",
   "pygments_lexer": "ipython3",
   "version": "3.7.5"
  }
 },
 "nbformat": 4,
 "nbformat_minor": 2
}
